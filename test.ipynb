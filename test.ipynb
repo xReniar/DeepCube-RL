{
 "cells": [
  {
   "cell_type": "code",
   "execution_count": 38,
   "id": "a2b8effc",
   "metadata": {},
   "outputs": [],
   "source": [
    "import torch\n",
    "import torch.nn as nn\n",
    "import torch.nn.functional as F"
   ]
  },
  {
   "cell_type": "code",
   "execution_count": 39,
   "id": "9d149e04",
   "metadata": {},
   "outputs": [],
   "source": [
    "color = {\n",
    "    \"U\": 0,\n",
    "    \"D\": 1,\n",
    "    \"F\": 2,\n",
    "    \"R\": 3,\n",
    "    \"B\": 4,\n",
    "    \"L\": 5\n",
    "}"
   ]
  },
  {
   "cell_type": "code",
   "execution_count": null,
   "id": "14f3f6b1",
   "metadata": {},
   "outputs": [],
   "source": [
    "state = \"UUUUUUUUURRRRRRRRRFFFFFFFFFDDDDDDDDDLLLLLLLLLBBBBBBBBB\"\n",
    "state_for_tensor = []\n",
    "for s in state:\n",
    "    state_for_tensor.append(color[s])\n",
    "\n",
    "state_for_tensor"
   ]
  },
  {
   "cell_type": "code",
   "execution_count": 41,
   "id": "0ef24e1e",
   "metadata": {},
   "outputs": [],
   "source": [
    "x = torch.tensor(state_for_tensor, dtype=torch.float)"
   ]
  },
  {
   "cell_type": "code",
   "execution_count": 42,
   "id": "b730a435",
   "metadata": {},
   "outputs": [],
   "source": [
    "class Net(nn.Module):\n",
    "    def __init__(self, input_dim, n_actions):\n",
    "        super().__init__()\n",
    "        self.fc1 = nn.Linear(input_dim, 128)\n",
    "        self.fc2 = nn.Linear(128, 256)\n",
    "        self.fc3 = nn.Linear(256, 256)\n",
    "        self.fc4 = nn.Linear(256, 256)\n",
    "        self.fc5 = nn.Linear(256, 256)\n",
    "        self.fc6 = nn.Linear(256, 256)\n",
    "        self.fc7 = nn.Linear(256, 256)\n",
    "        self.fc8 = nn.Linear(256, 256)\n",
    "        self.fc9 = nn.Linear(256, 256)\n",
    "        self.fc10 = nn.Linear(256, 128)\n",
    "        self.fc11 = nn.Linear(128, n_actions)\n",
    "\n",
    "    def forward(self, x):\n",
    "        x = F.relu(self.fc1(x))\n",
    "        x = F.relu(self.fc2(x))\n",
    "        x = F.relu(self.fc3(x))\n",
    "        x = F.relu(self.fc4(x))\n",
    "        x = F.relu(self.fc5(x))\n",
    "        x = F.relu(self.fc6(x))\n",
    "        x = F.relu(self.fc7(x))\n",
    "        x = F.relu(self.fc8(x))\n",
    "        x = F.relu(self.fc9(x))\n",
    "        x = F.relu(self.fc10(x))\n",
    "        x = self.fc11(x)\n",
    "\n",
    "        return x\n",
    "    \n",
    "model = Net(54, 12)"
   ]
  },
  {
   "cell_type": "code",
   "execution_count": 43,
   "id": "326d62df",
   "metadata": {},
   "outputs": [
    {
     "name": "stdout",
     "output_type": "stream",
     "text": [
      "tensor([-0.0028,  0.0189, -0.0069, -0.0817,  0.0069, -0.0611,  0.0444, -0.0377,\n",
      "         0.0553,  0.0118, -0.0031,  0.0645], grad_fn=<ViewBackward0>) 11\n"
     ]
    }
   ],
   "source": [
    "move = model.forward(x)\n",
    "argmax = move.argmax().item()\n",
    "\n",
    "\n",
    "print(move, argmax)"
   ]
  },
  {
   "cell_type": "code",
   "execution_count": null,
   "id": "cd163f3c",
   "metadata": {},
   "outputs": [],
   "source": [
    "import time\n",
    "\n",
    "device = \"cuda\"\n",
    "model.to(device)\n",
    "x.to(device)\n",
    "\n",
    "while True:\n",
    "    model = Net(54, 18)\n",
    "    move = model.forward(x)\n",
    "    argmax = move.max(0).indices.view(1, 1)\n",
    "\n",
    "    print(argmax)\n",
    "    print(move)\n",
    "    print()\n",
    "    #time.sleep(5)"
   ]
  }
 ],
 "metadata": {
  "kernelspec": {
   "display_name": "deep",
   "language": "python",
   "name": "python3"
  },
  "language_info": {
   "codemirror_mode": {
    "name": "ipython",
    "version": 3
   },
   "file_extension": ".py",
   "mimetype": "text/x-python",
   "name": "python",
   "nbconvert_exporter": "python",
   "pygments_lexer": "ipython3",
   "version": "3.11.13"
  }
 },
 "nbformat": 4,
 "nbformat_minor": 5
}
