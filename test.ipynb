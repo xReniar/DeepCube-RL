{
 "cells": [
  {
   "cell_type": "code",
   "execution_count": 23,
   "id": "a2b8effc",
   "metadata": {},
   "outputs": [],
   "source": [
    "import torch\n",
    "import torch.nn as nn\n",
    "import torch.nn.functional as F"
   ]
  },
  {
   "cell_type": "code",
   "execution_count": 24,
   "id": "9d149e04",
   "metadata": {},
   "outputs": [],
   "source": [
    "color = {\n",
    "    \"U\": 0,\n",
    "    \"D\": 1,\n",
    "    \"F\": 2,\n",
    "    \"R\": 3,\n",
    "    \"B\": 4,\n",
    "    \"L\": 5\n",
    "}"
   ]
  },
  {
   "cell_type": "code",
   "execution_count": 25,
   "id": "14f3f6b1",
   "metadata": {},
   "outputs": [
    {
     "data": {
      "text/plain": [
       "[0,\n",
       " 0,\n",
       " 0,\n",
       " 0,\n",
       " 0,\n",
       " 0,\n",
       " 0,\n",
       " 0,\n",
       " 0,\n",
       " 3,\n",
       " 3,\n",
       " 3,\n",
       " 3,\n",
       " 3,\n",
       " 3,\n",
       " 3,\n",
       " 3,\n",
       " 3,\n",
       " 2,\n",
       " 2,\n",
       " 2,\n",
       " 2,\n",
       " 2,\n",
       " 2,\n",
       " 2,\n",
       " 2,\n",
       " 2,\n",
       " 1,\n",
       " 1,\n",
       " 1,\n",
       " 1,\n",
       " 1,\n",
       " 1,\n",
       " 1,\n",
       " 1,\n",
       " 1,\n",
       " 5,\n",
       " 5,\n",
       " 5,\n",
       " 5,\n",
       " 5,\n",
       " 5,\n",
       " 5,\n",
       " 5,\n",
       " 5,\n",
       " 4,\n",
       " 4,\n",
       " 4,\n",
       " 4,\n",
       " 4,\n",
       " 4,\n",
       " 4,\n",
       " 4,\n",
       " 4]"
      ]
     },
     "execution_count": 25,
     "metadata": {},
     "output_type": "execute_result"
    }
   ],
   "source": [
    "state = \"UUUUUUUUURRRRRRRRRFFFFFFFFFDDDDDDDDDLLLLLLLLLBBBBBBBBB\"\n",
    "state_for_tensor = []\n",
    "for s in state:\n",
    "    state_for_tensor.append(color[s])\n",
    "\n",
    "state_for_tensor"
   ]
  },
  {
   "cell_type": "code",
   "execution_count": 33,
   "id": "0ef24e1e",
   "metadata": {},
   "outputs": [],
   "source": [
    "x = torch.tensor(state_for_tensor, dtype=torch.long).unsqueeze(0)"
   ]
  },
  {
   "cell_type": "code",
   "execution_count": 27,
   "id": "b730a435",
   "metadata": {},
   "outputs": [],
   "source": [
    "class Net(nn.Module):\n",
    "    def __init__(self, input_dim, n_actions):\n",
    "        super().__init__()\n",
    "        self.fc1 = nn.Linear(input_dim, 128)\n",
    "        self.fc2 = nn.Linear(128, 256)\n",
    "        self.fc3 = nn.Linear(256, 256)\n",
    "        self.fc4 = nn.Linear(256, 256)\n",
    "        self.fc5 = nn.Linear(256, 256)\n",
    "        self.fc6 = nn.Linear(256, 256)\n",
    "        self.fc7 = nn.Linear(256, 256)\n",
    "        self.fc8 = nn.Linear(256, 256)\n",
    "        self.fc9 = nn.Linear(256, 256)\n",
    "        self.fc10 = nn.Linear(256, 128)\n",
    "        self.fc11 = nn.Linear(128, n_actions)\n",
    "\n",
    "    def forward(self, x):\n",
    "        x = F.relu(self.fc1(x))\n",
    "        x = F.relu(self.fc2(x))\n",
    "        x = F.relu(self.fc3(x))\n",
    "        x = F.relu(self.fc4(x))\n",
    "        x = F.relu(self.fc5(x))\n",
    "        x = F.relu(self.fc6(x))\n",
    "        x = F.relu(self.fc7(x))\n",
    "        x = F.relu(self.fc8(x))\n",
    "        x = F.relu(self.fc9(x))\n",
    "        x = F.relu(self.fc10(x))\n",
    "        x = self.fc11(x)\n",
    "\n",
    "        return x\n",
    "    \n",
    "model = Net(54, 12)"
   ]
  },
  {
   "cell_type": "code",
   "execution_count": 28,
   "id": "326d62df",
   "metadata": {},
   "outputs": [
    {
     "name": "stdout",
     "output_type": "stream",
     "text": [
      "tensor([-0.0198, -0.0259,  0.0195,  0.0538,  0.0218,  0.0064, -0.0116, -0.0186,\n",
      "         0.0230,  0.0147, -0.0857,  0.0411], grad_fn=<ViewBackward0>) 3\n"
     ]
    }
   ],
   "source": [
    "move = model.forward(x)\n",
    "argmax = move.argmax().item()\n",
    "\n",
    "\n",
    "print(move, argmax)"
   ]
  },
  {
   "cell_type": "code",
   "execution_count": 29,
   "id": "cd163f3c",
   "metadata": {},
   "outputs": [
    {
     "data": {
      "text/plain": [
       "'\\nimport time\\n\\ndevice = \"cuda\"\\nmodel.to(device)\\nx.to(device)\\n\\nwhile True:\\n    model = Net(54, 18)\\n    move = model.forward(x)\\n    argmax = move.max(0).indices.view(1, 1)\\n\\n    print(argmax)\\n    print(move)\\n    print()\\n    #time.sleep(5)\\n'"
      ]
     },
     "execution_count": 29,
     "metadata": {},
     "output_type": "execute_result"
    }
   ],
   "source": [
    "'''\n",
    "import time\n",
    "\n",
    "device = \"cuda\"\n",
    "model.to(device)\n",
    "x.to(device)\n",
    "\n",
    "while True:\n",
    "    model = Net(54, 18)\n",
    "    move = model.forward(x)\n",
    "    argmax = move.max(0).indices.view(1, 1)\n",
    "\n",
    "    print(argmax)\n",
    "    print(move)\n",
    "    print()\n",
    "    #time.sleep(5)\n",
    "'''"
   ]
  },
  {
   "cell_type": "code",
   "execution_count": 34,
   "id": "cfe80089",
   "metadata": {},
   "outputs": [
    {
     "name": "stdout",
     "output_type": "stream",
     "text": [
      "torch.Size([1, 54])\n",
      "torch.int64\n",
      "torch.Size([1, 54, 32])\n"
     ]
    },
    {
     "data": {
      "text/plain": [
       "tensor([[[ 1.3583,  0.7163, -0.1377,  ..., -0.2434,  0.7202,  1.3717],\n",
       "         [ 1.3583,  0.7163, -0.1377,  ..., -0.2434,  0.7202,  1.3717],\n",
       "         [ 1.3583,  0.7163, -0.1377,  ..., -0.2434,  0.7202,  1.3717],\n",
       "         ...,\n",
       "         [ 0.7822, -0.1770, -0.6872,  ..., -0.6050,  0.4289,  0.7916],\n",
       "         [ 0.7822, -0.1770, -0.6872,  ..., -0.6050,  0.4289,  0.7916],\n",
       "         [ 0.7822, -0.1770, -0.6872,  ..., -0.6050,  0.4289,  0.7916]]],\n",
       "       grad_fn=<EmbeddingBackward0>)"
      ]
     },
     "execution_count": 34,
     "metadata": {},
     "output_type": "execute_result"
    }
   ],
   "source": [
    "print(x.shape)\n",
    "print(x.dtype) # Verify the data type is torch.long\n",
    "\n",
    "e = nn.Embedding(6, 32)\n",
    "\n",
    "# Now, this will work correctly\n",
    "output = e(x)\n",
    "print(output.shape)\n",
    "\n",
    "e(x)"
   ]
  },
  {
   "cell_type": "code",
   "execution_count": 40,
   "id": "407cf47b",
   "metadata": {},
   "outputs": [
    {
     "name": "stdout",
     "output_type": "stream",
     "text": [
      "          O  R  G                   \n",
      "          B  W  G                   \n",
      "          W  O  Y                   \n",
      " W  W  B  O  G  R  G  Y  R  W  W  G \n",
      " O  O  R  B  G  R  Y  R  W  G  B  B \n",
      " Y  B  B  Y  W  B  R  G  B  O  O  G \n",
      "          R  O  W                   \n",
      "          Y  Y  R                   \n",
      "          O  Y  Y                   \n",
      "\n",
      "0.0\n"
     ]
    }
   ],
   "source": [
    "import magiccube\n",
    "from environment.algorithm import CFOP\n",
    "\n",
    "\"URFDLB\"\n",
    "\n",
    "state = \"ORGBWGWOY\" \\\n",
    "\"        WWBOORYBB\" \\\n",
    "\"        OGRBGRYWB\" \\\n",
    "\"        GYRYRWRGB\" \\\n",
    "\"        WWGGBBOOG\" \\\n",
    "\"        ROWYYROYY\"\n",
    "\n",
    "c = magiccube.Cube(state=state)\n",
    "print(c)\n",
    "c.get_kociemba_facelet_positions()\n",
    "r = CFOP().cross(c)\n",
    "print(r)"
   ]
  }
 ],
 "metadata": {
  "kernelspec": {
   "display_name": "deep",
   "language": "python",
   "name": "python3"
  },
  "language_info": {
   "codemirror_mode": {
    "name": "ipython",
    "version": 3
   },
   "file_extension": ".py",
   "mimetype": "text/x-python",
   "name": "python",
   "nbconvert_exporter": "python",
   "pygments_lexer": "ipython3",
   "version": "3.11.13"
  }
 },
 "nbformat": 4,
 "nbformat_minor": 5
}
