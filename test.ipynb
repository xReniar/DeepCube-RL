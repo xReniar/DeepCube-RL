{
 "cells": [
  {
   "cell_type": "code",
   "execution_count": 1,
   "id": "a2b8effc",
   "metadata": {},
   "outputs": [],
   "source": [
    "import torch\n",
    "import torch.nn as nn\n",
    "import torch.nn.functional as F"
   ]
  },
  {
   "cell_type": "code",
   "execution_count": 6,
   "id": "9d149e04",
   "metadata": {},
   "outputs": [],
   "source": [
    "color = {\n",
    "    \"U\": 0,\n",
    "    \"D\": 1,\n",
    "    \"F\": 2,\n",
    "    \"R\": 3,\n",
    "    \"B\": 4,\n",
    "    \"L\": 5\n",
    "}"
   ]
  },
  {
   "cell_type": "code",
   "execution_count": null,
   "id": "b730a435",
   "metadata": {},
   "outputs": [],
   "source": [
    "class ResnetModel(nn.Module):\n",
    "    def __init__(self, state_dim: int, one_hot_depth: int, h1_dim: int, resnet_dim: int, num_resnet_blocks: int,\n",
    "                 out_dim: int, batch_norm: bool):\n",
    "        super().__init__()\n",
    "        self.one_hot_depth: int = one_hot_depth\n",
    "        self.state_dim: int = state_dim\n",
    "        self.blocks = nn.ModuleList()\n",
    "        self.num_resnet_blocks: int = num_resnet_blocks\n",
    "        self.batch_norm = batch_norm\n",
    "\n",
    "        # first two hidden layers\n",
    "        if one_hot_depth > 0:\n",
    "            self.fc1 = nn.Linear(self.state_dim * self.one_hot_depth, h1_dim)\n",
    "        else:\n",
    "            self.fc1 = nn.Linear(self.state_dim, h1_dim)\n",
    "\n",
    "        if self.batch_norm:\n",
    "            self.bn1 = nn.BatchNorm1d(h1_dim)\n",
    "\n",
    "        self.fc2 = nn.Linear(h1_dim, resnet_dim)\n",
    "\n",
    "        if self.batch_norm:\n",
    "            self.bn2 = nn.BatchNorm1d(resnet_dim)\n",
    "\n",
    "        # resnet blocks\n",
    "        for block_num in range(self.num_resnet_blocks):\n",
    "            if self.batch_norm:\n",
    "                res_fc1 = nn.Linear(resnet_dim, resnet_dim)\n",
    "                res_bn1 = nn.BatchNorm1d(resnet_dim)\n",
    "                res_fc2 = nn.Linear(resnet_dim, resnet_dim)\n",
    "                res_bn2 = nn.BatchNorm1d(resnet_dim)\n",
    "                self.blocks.append(nn.ModuleList([res_fc1, res_bn1, res_fc2, res_bn2]))\n",
    "            else:\n",
    "                res_fc1 = nn.Linear(resnet_dim, resnet_dim)\n",
    "                res_fc2 = nn.Linear(resnet_dim, resnet_dim)\n",
    "                self.blocks.append(nn.ModuleList([res_fc1, res_fc2]))\n",
    "\n",
    "        # output\n",
    "        self.fc_out = nn.Linear(resnet_dim, out_dim)\n",
    "\n",
    "    def forward(self, states_nnet):\n",
    "        x = states_nnet\n",
    "\n",
    "        # preprocess input\n",
    "        if self.one_hot_depth > 0:\n",
    "            x = F.one_hot(x.long(), self.one_hot_depth)\n",
    "            x = x.float()\n",
    "            x = x.view(-1, self.state_dim * self.one_hot_depth)\n",
    "        else:\n",
    "            x = x.float()\n",
    "\n",
    "        # first two hidden layers\n",
    "        x = self.fc1(x)\n",
    "        if self.batch_norm:\n",
    "            x = self.bn1(x)\n",
    "\n",
    "        x = F.relu(x)\n",
    "        x = self.fc2(x)\n",
    "        if self.batch_norm:\n",
    "            x = self.bn2(x)\n",
    "\n",
    "        x = F.relu(x)\n",
    "\n",
    "        # resnet blocks\n",
    "        for block_num in range(self.num_resnet_blocks):\n",
    "            res_inp = x\n",
    "            if self.batch_norm:\n",
    "                x = self.blocks[block_num][0](x)\n",
    "                x = self.blocks[block_num][1](x)\n",
    "                x = F.relu(x)\n",
    "                x = self.blocks[block_num][2](x)\n",
    "                x = self.blocks[block_num][3](x)\n",
    "            else:\n",
    "                x = self.blocks[block_num][0](x)\n",
    "                x = F.relu(x)\n",
    "                x = self.blocks[block_num][1](x)\n",
    "\n",
    "            x = F.relu(x + res_inp)\n",
    "\n",
    "        # output\n",
    "        x = self.fc_out(x)\n",
    "        return x\n"
   ]
  },
  {
   "cell_type": "code",
   "execution_count": 61,
   "id": "14f3f6b1",
   "metadata": {},
   "outputs": [
    {
     "data": {
      "text/plain": [
       "torch.Size([54])"
      ]
     },
     "execution_count": 61,
     "metadata": {},
     "output_type": "execute_result"
    }
   ],
   "source": [
    "state = \"UUUUUUUUURRRRRRRRRFFFFFFFFFDDDDDDDDDLLLLLLLLLBBBBBBBBB\"\n",
    "state_for_tensor = []\n",
    "for s in state:\n",
    "    state_for_tensor.append(color[s])\n",
    "\n",
    "tensor = torch.tensor(state_for_tensor)\n",
    "tensor.shape"
   ]
  },
  {
   "cell_type": "code",
   "execution_count": 60,
   "id": "cddfdbca",
   "metadata": {},
   "outputs": [
    {
     "name": "stdout",
     "output_type": "stream",
     "text": [
      "torch.Size([54])\n",
      "tensor([[-0.0180]], grad_fn=<AddmmBackward0>)\n",
      "-0.017974071204662323\n"
     ]
    }
   ],
   "source": [
    "net = ResnetModel(54, 6, 5000, 1000, 4, 1, False)\n",
    "\n",
    "tensor = tensor.squeeze(0)\n",
    "print(tensor.shape)\n",
    "\n",
    "print(net(tensor))\n",
    "print(net(tensor).item())"
   ]
  },
  {
   "cell_type": "code",
   "execution_count": 40,
   "id": "407cf47b",
   "metadata": {},
   "outputs": [
    {
     "name": "stdout",
     "output_type": "stream",
     "text": [
      "          O  R  G                   \n",
      "          B  W  G                   \n",
      "          W  O  Y                   \n",
      " W  W  B  O  G  R  G  Y  R  W  W  G \n",
      " O  O  R  B  G  R  Y  R  W  G  B  B \n",
      " Y  B  B  Y  W  B  R  G  B  O  O  G \n",
      "          R  O  W                   \n",
      "          Y  Y  R                   \n",
      "          O  Y  Y                   \n",
      "\n",
      "0.0\n"
     ]
    }
   ],
   "source": [
    "import magiccube\n",
    "from environment.algorithm import CFOP\n",
    "\n",
    "\"URFDLB\"\n",
    "\n",
    "state = \"ORGBWGWOY\" \\\n",
    "\"        WWBOORYBB\" \\\n",
    "\"        OGRBGRYWB\" \\\n",
    "\"        GYRYRWRGB\" \\\n",
    "\"        WWGGBBOOG\" \\\n",
    "\"        ROWYYROYY\"\n",
    "\n",
    "c = magiccube.Cube(state=state)\n",
    "print(c)\n",
    "c.get_kociemba_facelet_positions()\n",
    "r = CFOP().cross(c)\n",
    "print(r)"
   ]
  }
 ],
 "metadata": {
  "kernelspec": {
   "display_name": "deep",
   "language": "python",
   "name": "python3"
  },
  "language_info": {
   "codemirror_mode": {
    "name": "ipython",
    "version": 3
   },
   "file_extension": ".py",
   "mimetype": "text/x-python",
   "name": "python",
   "nbconvert_exporter": "python",
   "pygments_lexer": "ipython3",
   "version": "3.11.13"
  }
 },
 "nbformat": 4,
 "nbformat_minor": 5
}
