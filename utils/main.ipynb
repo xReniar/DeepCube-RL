{
 "cells": [
  {
   "cell_type": "code",
   "execution_count": 1,
   "id": "4d0b2429",
   "metadata": {},
   "outputs": [],
   "source": [
    "from environment import Environment\n",
    "from magiccube import Cube\n",
    "from agents import A2C, DQN, PPO\n",
    "import yaml\n",
    "import numpy as np\n",
    "import itertools\n",
    "import torch\n",
    "import torch.nn as nn"
   ]
  },
  {
   "cell_type": "code",
   "execution_count": 2,
   "id": "50e3522d",
   "metadata": {},
   "outputs": [],
   "source": [
    "args = yaml.safe_load(open(\"config.yaml\", \"r\"))\n",
    "phase = \"f2l\"\n",
    "\n",
    "env = Environment(\n",
    "    phase=phase,\n",
    "    args=args[\"environment\"]\n",
    ")\n",
    "\n",
    "agent = DQN(env, phase, args)"
   ]
  },
  {
   "cell_type": "code",
   "execution_count": 3,
   "id": "fa9012fe",
   "metadata": {},
   "outputs": [
    {
     "name": "stdout",
     "output_type": "stream",
     "text": [
      "          W  B  O                   \n",
      "          W  W  R                   \n",
      "          R  B  B                   \n",
      " R  O  B  W  W  R  Y  W  Y  G  O  G \n",
      " G  O  G  O  G  W  G  R  R  B  B  R \n",
      " W  O  Y  B  G  R  Y  R  O  B  B  O \n",
      "          O  Y  G                   \n",
      "          Y  Y  Y                   \n",
      "          G  Y  W                   \n",
      "\n"
     ]
    }
   ],
   "source": [
    "cube = Cube()\n",
    "print(env.cube)"
   ]
  },
  {
   "cell_type": "code",
   "execution_count": 4,
   "id": "441bb29b",
   "metadata": {},
   "outputs": [
    {
     "name": "stdout",
     "output_type": "stream",
     "text": [
      "          G  O  W                   \n",
      "          Y  W  W                   \n",
      "          R  W  G                   \n",
      " O  G  Y  B  B  Y  R  O  G  R  Y  W \n",
      " B  O  R  G  G  W  G  R  R  Y  B  R \n",
      " Y  B  O  B  W  B  R  O  Y  O  G  O \n",
      "          W  R  W                   \n",
      "          Y  Y  B                   \n",
      "          B  O  G                   \n",
      "\n"
     ]
    }
   ],
   "source": [
    "env.cube.rotate(cube.generate_random_moves())\n",
    "print(env.cube)"
   ]
  },
  {
   "cell_type": "code",
   "execution_count": 5,
   "id": "ebd13aeb",
   "metadata": {},
   "outputs": [
    {
     "name": "stdout",
     "output_type": "stream",
     "text": [
      "[[[ 4  0  2 23  1  3  4  0]\n",
      "  [ 1  3 -1  1  1  3 -1  1]\n",
      "  [ 4  3  1  0  1  3  5  2]\n",
      "  [ 4 -1  2 14  1 -1  4  3]\n",
      "  [ 1 -1 -1  4  1 -1 -1  4]\n",
      "  [ 5 -1  1  5  1 -1  5  5]\n",
      "  [ 1  5  2  8  1  2  4  6]\n",
      "  [ 5  0 -1 22  1  2 -1  7]\n",
      "  [ 2  1  4  6  1  2  5  8]\n",
      "  [-1  3  4  9 -1  3  4  9]\n",
      "  [-1  3 -1 10 -1  3 -1 10]\n",
      "  [-1  3  5 11 -1  3  5 11]\n",
      "  [-1 -1  4 12 -1 -1  4 12]\n",
      "  [-1 -1  5 13 -1 -1  5 13]\n",
      "  [-1  5  2 16 -1  2  4 14]\n",
      "  [-1  2 -1 15 -1  2 -1 15]\n",
      "  [-1  4  0 20 -1  2  5 16]\n",
      "  [ 2  5  0 25  0  3  4 17]\n",
      "  [ 0  3 -1 18  0  3 -1 18]\n",
      "  [ 0  4  3 17  0  3  5 19]\n",
      "  [ 0 -1  2 24  0 -1  4 20]\n",
      "  [ 0 -1 -1 21  0 -1 -1 21]\n",
      "  [ 4 -1  1  3  0 -1  5 22]\n",
      "  [ 0  3  5 19  0  2  4 23]\n",
      "  [ 1  2 -1  7  0  2 -1 24]\n",
      "  [ 5  1  3  2  0  2  5 25]]]\n"
     ]
    }
   ],
   "source": [
    "env.scramble()\n",
    "#obs, reward, done = env.step(\"B'\")\n",
    "print(env.state2) \n",
    "#print(env.state2.shape)\n",
    "#print(env.algorithm.status())\n",
    "#print(env.cube)\n",
    "#print(agent.policy_net(agent.state_to_tensor(env.state2)))"
   ]
  },
  {
   "cell_type": "code",
   "execution_count": 6,
   "id": "bb01edac",
   "metadata": {},
   "outputs": [
    {
     "name": "stdout",
     "output_type": "stream",
     "text": [
      "          O  B  O                   \n",
      "          G  W  W                   \n",
      "          R  O  O                   \n",
      " Y  W  G  Y  B  Y  G  R  W  B  R  B \n",
      " G  O  W  B  G  W  O  R  R  G  B  O \n",
      " O  O  B  Y  G  B  R  R  W  R  B  G \n",
      "          R  Y  W                   \n",
      "          Y  Y  Y                   \n",
      "          W  Y  G                   \n",
      "\n"
     ]
    }
   ],
   "source": [
    "env.scramble()\n",
    "print(env.cube)"
   ]
  },
  {
   "cell_type": "code",
   "execution_count": 110,
   "id": "573fdf8f",
   "metadata": {},
   "outputs": [
    {
     "data": {
      "text/plain": [
       "torch.Size([1, 26, 8])"
      ]
     },
     "execution_count": 110,
     "metadata": {},
     "output_type": "execute_result"
    }
   ],
   "source": [
    "state_tensor = torch.from_numpy(env.state2).to(\"cuda:0\").float()\n",
    "state_tensor.shape"
   ]
  },
  {
   "cell_type": "code",
   "execution_count": null,
   "id": "5082fbb5",
   "metadata": {},
   "outputs": [],
   "source": [
    "class RubikAttention(nn.Module):\n",
    "    def __init__(self, dim):\n",
    "        super().__init__()\n",
    "        self.attention = nn.MultiheadAttention(\n",
    "            embed_dim=dim,\n",
    "            num_heads=dim,\n",
    "            batch_first=True\n",
    "        )\n",
    "\n",
    "        self.fc = nn.Sequential(\n",
    "            nn.Linear(dim, dim * 2),\n",
    "            nn.ReLU(inplace=True),\n",
    "            nn.Linear(dim * 2, dim * 2),\n",
    "            nn.ReLU(inplace=True),\n",
    "            nn.Linear(dim * 2, dim)\n",
    "        )\n",
    "\n",
    "    def forward(self, x):\n",
    "        x, _ = self.attention(x, x, x)\n",
    "        x = self.fc(x)\n",
    "\n",
    "        return x\n",
    "\n",
    "class RubikNet(nn.Module):\n",
    "    def __init__(\n",
    "        self,\n",
    "        num_layers: int,\n",
    "        output_dim: int\n",
    "    ) -> None:\n",
    "        super().__init__()\n",
    "        self.attn_layers = nn.Sequential(\n",
    "            *[RubikAttention(2) for _ in range(num_layers)]\n",
    "        )\n",
    "\n",
    "    def forward(self, x):\n",
    "        x = self.attn_layers(x)\n",
    "\n",
    "        return x"
   ]
  },
  {
   "cell_type": "code",
   "execution_count": 317,
   "id": "5116a481",
   "metadata": {},
   "outputs": [
    {
     "data": {
      "text/plain": [
       "torch.Size([1, 26, 8])"
      ]
     },
     "execution_count": 317,
     "metadata": {},
     "output_type": "execute_result"
    }
   ],
   "source": [
    "net =RubikNet(4).to(\"cuda\")\n",
    "\n",
    "net(state_tensor).shape"
   ]
  },
  {
   "cell_type": "code",
   "execution_count": 120,
   "id": "1227b636",
   "metadata": {},
   "outputs": [
    {
     "name": "stdout",
     "output_type": "stream",
     "text": [
      "tensor([[ -2.7835,   1.3881,   1.3501,  ...,   0.7526,  -0.0367,   0.5035],\n",
      "        [ -7.0616,   3.6675,   2.3473,  ...,   1.7061,   0.4502,   0.9719],\n",
      "        [-11.3397,   5.9469,   3.3445,  ...,   2.6596,   0.9370,   1.4404],\n",
      "        [-15.6178,   8.2263,   4.3417,  ...,   3.6132,   1.4239,   1.9088]],\n",
      "       grad_fn=<AddmmBackward0>)\n",
      "Output: tensor([[0.2159, 0.9814],\n",
      "        [0.7017, 2.0261],\n",
      "        [1.1874, 3.0708],\n",
      "        [1.6731, 4.1155]], grad_fn=<AddmmBackward0>)\n"
     ]
    }
   ],
   "source": [
    "# Definiamo un layer lineare: input con 3 feature, output con 2 feature\n",
    "fc1 = nn.Linear(in_features=3, out_features=256)\n",
    "fc2 = nn.Linear(in_features=256, out_features=2)\n",
    "\n",
    "# Esempio di input: batch di 4 esempi, ciascuno con 3 feature\n",
    "input_matrix = torch.tensor([\n",
    "    [1.0, 2.0, 3.0],\n",
    "    [4.0, 5.0, 6.0],\n",
    "    [7.0, 8.0, 9.0],\n",
    "    [10.0, 11.0, 12.0]\n",
    "])  # shape: (4, 3)\n",
    "\n",
    "# Passaggio della matrice al layer\n",
    "output = fc1(input_matrix)\n",
    "print(output)\n",
    "output = fc2(output)\n",
    "\n",
    "print(\"Output:\", output)"
   ]
  }
 ],
 "metadata": {
  "kernelspec": {
   "display_name": "deep",
   "language": "python",
   "name": "python3"
  },
  "language_info": {
   "codemirror_mode": {
    "name": "ipython",
    "version": 3
   },
   "file_extension": ".py",
   "mimetype": "text/x-python",
   "name": "python",
   "nbconvert_exporter": "python",
   "pygments_lexer": "ipython3",
   "version": "3.11.13"
  }
 },
 "nbformat": 4,
 "nbformat_minor": 5
}
