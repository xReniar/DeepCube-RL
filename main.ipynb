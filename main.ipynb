{
 "cells": [
  {
   "cell_type": "code",
   "execution_count": 1,
   "id": "4d0b2429",
   "metadata": {},
   "outputs": [],
   "source": [
    "from environment import Environment\n",
    "from magiccube import Cube\n",
    "from agents import A2C, DQN, PPO\n",
    "import yaml\n",
    "import numpy as np\n",
    "import itertools\n",
    "import torch\n",
    "import torch.nn as nn"
   ]
  },
  {
   "cell_type": "code",
   "execution_count": 2,
   "id": "50e3522d",
   "metadata": {},
   "outputs": [],
   "source": [
    "args = yaml.safe_load(open(\"config.yaml\", \"r\"))\n",
    "\n",
    "env = Environment(\n",
    "    method=\"LBL\",\n",
    "    size=3,\n",
    "    args=args[\"environment\"]\n",
    ")\n",
    "\n",
    "agent = DQN(env, args[\"DQN\"])"
   ]
  },
  {
   "cell_type": "code",
   "execution_count": 3,
   "id": "fa9012fe",
   "metadata": {},
   "outputs": [
    {
     "name": "stdout",
     "output_type": "stream",
     "text": [
      "          W  W  W                   \n",
      "          W  W  W                   \n",
      "          W  W  W                   \n",
      " O  O  O  G  G  G  R  R  R  B  B  B \n",
      " O  O  O  G  G  G  R  R  R  B  B  B \n",
      " O  O  O  G  G  G  R  R  R  B  B  B \n",
      "          Y  Y  Y                   \n",
      "          Y  Y  Y                   \n",
      "          Y  Y  Y                   \n",
      "\n"
     ]
    }
   ],
   "source": [
    "cube = Cube()\n",
    "print(cube)"
   ]
  },
  {
   "cell_type": "code",
   "execution_count": 4,
   "id": "35ce74f4",
   "metadata": {},
   "outputs": [
    {
     "data": {
      "text/plain": [
       "array([[1, 1, 1, 1],\n",
       "       [1, 1, 1, 1],\n",
       "       [1, 1, 1, 1]])"
      ]
     },
     "execution_count": 4,
     "metadata": {},
     "output_type": "execute_result"
    }
   ],
   "source": [
    "env.algorithm.status()"
   ]
  },
  {
   "cell_type": "code",
   "execution_count": 72,
   "id": "ebd13aeb",
   "metadata": {},
   "outputs": [
    {
     "name": "stdout",
     "output_type": "stream",
     "text": [
      "[[[ 3  5  0  0 19]\n",
      "  [ 1  3 -1  1  1]\n",
      "  [ 4  1  2  2  6]\n",
      "  [ 1 -1  4  3  3]\n",
      "  [ 1 -1 -1  4  4]\n",
      "  [ 4 -1  2  5 14]\n",
      "  [ 3  4  0  6 17]\n",
      "  [ 0  4 -1  7 20]\n",
      "  [ 0  5  2  8 25]\n",
      "  [-1  1  5  9  5]\n",
      "  [-1  3 -1 10 10]\n",
      "  [-1  3  5 11 11]\n",
      "  [-1 -1  4 12 12]\n",
      "  [-1 -1  5 13 13]\n",
      "  [-1  3  4 14  9]\n",
      "  [-1  2 -1 15 15]\n",
      "  [-1  2  1 16  7]\n",
      "  [ 4  3  1 17  0]\n",
      "  [ 0  3 -1 18 18]\n",
      "  [ 1  5  3 19  2]\n",
      "  [ 2 -1  5 20 16]\n",
      "  [ 0 -1 -1 21 21]\n",
      "  [ 5 -1  0 22 22]\n",
      "  [ 2  5  1 23  8]\n",
      "  [ 2  0 -1 24 24]\n",
      "  [ 4  2  0 25 23]]]\n",
      "          B  Y  G                   \n",
      "          B  W  R                   \n",
      "          G  W  W                   \n",
      " Y  R  R  W  O  R  B  W  W  O  B  R \n",
      " O  O  B  W  G  R  G  R  W  G  B  B \n",
      " Y  O  B  W  G  Y  O  R  B  O  G  R \n",
      "          O  Y  G                   \n",
      "          Y  Y  Y                   \n",
      "          G  O  Y                   \n",
      "\n",
      "tensor([1, 1, 0, 1])\n",
      "tensor([[ 0.0691, -0.0760,  0.0080, -0.1121, -0.0430, -0.0202,  0.0529,  0.0835,\n",
      "         -0.0480, -0.0159,  0.1221,  0.0880]], grad_fn=<AddmmBackward0>)\n"
     ]
    }
   ],
   "source": [
    "#env.scramble()\n",
    "env.step(\"B\")\n",
    "print(env.state2)\n",
    "#print(env.state2.shape)\n",
    "#print(env.algorithm.status())\n",
    "print(env.cube)\n",
    "print(agent.policy_net(agent.state_to_tensor(env.state2)))"
   ]
  },
  {
   "cell_type": "code",
   "execution_count": 7,
   "id": "573fdf8f",
   "metadata": {},
   "outputs": [],
   "source": [
    "hidden_size = 128\n",
    "\n",
    "embedding = nn.Linear(5, hidden_size)\n",
    "\n",
    "attention = nn.MultiheadAttention(\n",
    "    embed_dim=hidden_size,\n",
    "    num_heads=4,\n",
    "    batch_first=True\n",
    ")\n",
    "\n",
    "layer_norm = nn.LayerNorm(hidden_size)\n",
    "\n",
    "ffn = nn.Sequential(\n",
    "    nn.Linear(hidden_size, hidden_size),\n",
    "    nn.ReLU(inplace=True)\n",
    ")\n",
    "\n",
    "output_layer = nn.Sequential(\n",
    "    nn.Linear(hidden_size * 26, hidden_size * 12),\n",
    "    nn.ReLU(inplace=True),\n",
    "    nn.Linear(hidden_size * 12, hidden_size * 6),\n",
    "    nn.ReLU(inplace=True),\n",
    "    nn.Linear(hidden_size * 6, hidden_size * 3),\n",
    "    nn.ReLU(inplace=True),\n",
    "    nn.Linear(hidden_size * 3, hidden_size),\n",
    "    nn.ReLU(inplace=True),\n",
    "    nn.Linear(hidden_size, hidden_size // 2),\n",
    "    nn.ReLU(inplace=True),\n",
    "    nn.Linear(hidden_size // 2, 12)\n",
    ")\n"
   ]
  },
  {
   "cell_type": "code",
   "execution_count": 8,
   "id": "c454da61",
   "metadata": {},
   "outputs": [
    {
     "data": {
      "text/plain": [
       "tensor([[-0.0348,  0.0706, -0.0873, -0.0922,  0.0188,  0.0744,  0.1190, -0.0996,\n",
       "          0.0783, -0.0687,  0.1249, -0.0927]], grad_fn=<AddmmBackward0>)"
      ]
     },
     "execution_count": 8,
     "metadata": {},
     "output_type": "execute_result"
    }
   ],
   "source": [
    "state_tensor = torch.from_numpy(env.state2).float()\n",
    "embedded = embedding(state_tensor)\n",
    "attn_output, _ = attention(embedded, embedded, embedded)\n",
    "attn_output = layer_norm(embedded + attn_output)\n",
    "ffn_output = ffn(attn_output)\n",
    "output = layer_norm(attn_output + ffn_output)\n",
    "\n",
    "flattened = output.view(1, -1)\n",
    "output = output_layer(flattened)\n",
    "\n",
    "output"
   ]
  },
  {
   "cell_type": "code",
   "execution_count": 9,
   "id": "1227b636",
   "metadata": {},
   "outputs": [
    {
     "name": "stdout",
     "output_type": "stream",
     "text": [
      "tensor([[-0.1013, -1.6739,  0.9861,  ..., -1.5273,  1.5393, -0.5524],\n",
      "        [ 1.1135, -3.6123,  1.6040,  ..., -4.2860,  4.4062, -0.0993],\n",
      "        [ 2.3283, -5.5507,  2.2219,  ..., -7.0447,  7.2730,  0.3539],\n",
      "        [ 3.5431, -7.4890,  2.8398,  ..., -9.8034, 10.1399,  0.8070]],\n",
      "       grad_fn=<AddmmBackward0>)\n",
      "Output: tensor([[ 0.1805, -1.3111],\n",
      "        [-0.4655, -3.1505],\n",
      "        [-1.1114, -4.9899],\n",
      "        [-1.7573, -6.8293]], grad_fn=<AddmmBackward0>)\n"
     ]
    }
   ],
   "source": [
    "# Definiamo un layer lineare: input con 3 feature, output con 2 feature\n",
    "fc1 = nn.Linear(in_features=3, out_features=256)\n",
    "fc2 = nn.Linear(in_features=256, out_features=2)\n",
    "\n",
    "# Esempio di input: batch di 4 esempi, ciascuno con 3 feature\n",
    "input_matrix = torch.tensor([\n",
    "    [1.0, 2.0, 3.0],\n",
    "    [4.0, 5.0, 6.0],\n",
    "    [7.0, 8.0, 9.0],\n",
    "    [10.0, 11.0, 12.0]\n",
    "])  # shape: (4, 3)\n",
    "\n",
    "# Passaggio della matrice al layer\n",
    "output = fc1(input_matrix)\n",
    "print(output)\n",
    "output = fc2(output)\n",
    "\n",
    "print(\"Output:\", output)"
   ]
  }
 ],
 "metadata": {
  "kernelspec": {
   "display_name": "venv (3.10.9)",
   "language": "python",
   "name": "python3"
  },
  "language_info": {
   "codemirror_mode": {
    "name": "ipython",
    "version": 3
   },
   "file_extension": ".py",
   "mimetype": "text/x-python",
   "name": "python",
   "nbconvert_exporter": "python",
   "pygments_lexer": "ipython3",
   "version": "3.10.9"
  }
 },
 "nbformat": 4,
 "nbformat_minor": 5
}
