{
 "cells": [
  {
   "cell_type": "code",
   "execution_count": 1,
   "id": "4d0b2429",
   "metadata": {},
   "outputs": [],
   "source": [
    "from environment import Environment\n",
    "from magiccube import Cube\n",
    "from agents import A2C, DQN, PPO\n",
    "import yaml\n",
    "import numpy as np\n",
    "import itertools\n",
    "import torch\n",
    "import torch.nn as nn"
   ]
  },
  {
   "cell_type": "code",
   "execution_count": 2,
   "id": "50e3522d",
   "metadata": {},
   "outputs": [],
   "source": [
    "args = yaml.safe_load(open(\"config.yaml\", \"r\"))\n",
    "\n",
    "env = Environment(\n",
    "    method=\"LBL\",\n",
    "    size=3,\n",
    "    args=args[\"environment\"]\n",
    ")\n",
    "\n",
    "agent = DQN(env, args[\"DQN\"])"
   ]
  },
  {
   "cell_type": "code",
   "execution_count": 5,
   "id": "fa9012fe",
   "metadata": {},
   "outputs": [
    {
     "name": "stdout",
     "output_type": "stream",
     "text": [
      "          W  W  W                   \n",
      "          W  W  W                   \n",
      "          W  W  W                   \n",
      " O  O  O  G  G  G  R  R  R  B  B  B \n",
      " O  O  O  G  G  G  R  R  R  B  B  B \n",
      " O  O  O  G  G  G  R  R  R  B  B  B \n",
      "          Y  Y  Y                   \n",
      "          Y  Y  Y                   \n",
      "          Y  Y  Y                   \n",
      "\n"
     ]
    }
   ],
   "source": [
    "cube = Cube()\n",
    "print(cube)"
   ]
  },
  {
   "cell_type": "code",
   "execution_count": null,
   "id": "35ce74f4",
   "metadata": {},
   "outputs": [
    {
     "name": "stdout",
     "output_type": "stream",
     "text": [
      "front LLLLLLLLL RRRRRRRRR\n",
      "right FFFFFFFFF BBBBBBBBB\n",
      "back RRRRRRRRR LLLLLLLLL\n",
      "left BBBBBBBBB FFFFFFFFF\n"
     ]
    },
    {
     "data": {
      "text/plain": [
       "100"
      ]
     },
     "execution_count": 6,
     "metadata": {},
     "output_type": "execute_result"
    },
    {
     "ename": "",
     "evalue": "",
     "output_type": "error",
     "traceback": [
      "\u001b[1;31mThe Kernel crashed while executing code in the current cell or a previous cell. \n",
      "\u001b[1;31mPlease review the code in the cell(s) to identify a possible cause of the failure. \n",
      "\u001b[1;31mClick <a href='https://aka.ms/vscodeJupyterKernelCrash'>here</a> for more info. \n",
      "\u001b[1;31mView Jupyter <a href='command:jupyter.viewOutput'>log</a> for further details."
     ]
    }
   ],
   "source": [
    "env.algorithm.status(cube)"
   ]
  },
  {
   "cell_type": "code",
   "execution_count": 9,
   "id": "ebd13aeb",
   "metadata": {},
   "outputs": [
    {
     "name": "stdout",
     "output_type": "stream",
     "text": [
      "[[[ 4  2  1  0  6]\n",
      "  [ 2  1 -1  1  7]\n",
      "  [ 4  2  0  2 23]\n",
      "  [ 4 -1  2  3 14]\n",
      "  [ 1 -1 -1  4  4]\n",
      "  [ 4 -1  0  5 20]\n",
      "  [ 0  3  4  6 17]\n",
      "  [ 0  5 -1  7 22]\n",
      "  [ 0  5  2  8 25]\n",
      "  [-1  3  5  9 11]\n",
      "  [-1  3 -1 10 10]\n",
      "  [-1  2  5 11 16]\n",
      "  [-1 -1  4 12 12]\n",
      "  [-1 -1  5 13 13]\n",
      "  [-1  5  1 14  5]\n",
      "  [-1  2 -1 15 15]\n",
      "  [-1  3  1 16  1]\n",
      "  [ 1  3  5 17  2]\n",
      "  [ 0  3 -1 18 18]\n",
      "  [ 0  3  5 19 19]\n",
      "  [ 4 -1  3 20  9]\n",
      "  [ 0 -1 -1 21 21]\n",
      "  [ 0 -1  2 22 24]\n",
      "  [ 2  5  1 23  8]\n",
      "  [ 1  4 -1 24  3]\n",
      "  [ 4  3  1 25  0]]]\n",
      "(1, 26, 5)\n"
     ]
    }
   ],
   "source": [
    "env.scramble()\n",
    "print(env.state2)\n",
    "print(env.state2.shape)"
   ]
  },
  {
   "cell_type": "code",
   "execution_count": 10,
   "id": "573fdf8f",
   "metadata": {},
   "outputs": [],
   "source": [
    "hidden_size = 128\n",
    "\n",
    "embedding = nn.Linear(5, hidden_size)\n",
    "\n",
    "attention = nn.MultiheadAttention(\n",
    "    embed_dim=hidden_size,\n",
    "    num_heads=4,\n",
    "    batch_first=True\n",
    ")\n",
    "\n",
    "layer_norm = nn.LayerNorm(hidden_size)\n",
    "\n",
    "ffn = nn.Sequential(\n",
    "    nn.Linear(hidden_size, hidden_size),\n",
    "    nn.ReLU(inplace=True)\n",
    ")\n",
    "\n",
    "output_layer = nn.Sequential(\n",
    "    nn.Linear(hidden_size * 26, hidden_size * 2),\n",
    "    nn.ReLU(inplace=True),\n",
    "    nn.Linear(hidden_size * 2, 12)\n",
    ")\n"
   ]
  },
  {
   "cell_type": "code",
   "execution_count": 11,
   "id": "c454da61",
   "metadata": {},
   "outputs": [
    {
     "data": {
      "text/plain": [
       "tensor([[ 0.0287, -0.2069, -0.4253, -0.0753,  0.2927,  0.0515,  0.2215,  0.3008,\n",
       "          0.1258, -0.0102, -0.2572,  0.1653]], grad_fn=<AddmmBackward0>)"
      ]
     },
     "execution_count": 11,
     "metadata": {},
     "output_type": "execute_result"
    }
   ],
   "source": [
    "state_tensor = torch.from_numpy(env.state2).float()\n",
    "embedded = embedding(state_tensor)\n",
    "attn_output, _ = attention(embedded, embedded, embedded)\n",
    "attn_output = layer_norm(embedded + attn_output)\n",
    "ffn_output = ffn(attn_output)\n",
    "output = layer_norm(attn_output + ffn_output)\n",
    "\n",
    "flattened = output.view(1, -1)\n",
    "output = output_layer(flattened)\n",
    "\n",
    "output"
   ]
  },
  {
   "cell_type": "code",
   "execution_count": 12,
   "id": "1227b636",
   "metadata": {},
   "outputs": [
    {
     "name": "stdout",
     "output_type": "stream",
     "text": [
      "tensor([[  2.0019,   1.7520,  -1.0355,  ...,  -2.4831,  -0.3922,   1.4125],\n",
      "        [  4.8899,   4.5193,  -2.0768,  ...,  -5.9477,  -1.5034,   3.6079],\n",
      "        [  7.7780,   7.2866,  -3.1181,  ...,  -9.4123,  -2.6145,   5.8033],\n",
      "        [ 10.6660,  10.0539,  -4.1593,  ..., -12.8769,  -3.7257,   7.9987]],\n",
      "       grad_fn=<AddmmBackward0>)\n",
      "Output: tensor([[0.0911, 1.2843],\n",
      "        [0.9483, 2.6599],\n",
      "        [1.8056, 4.0356],\n",
      "        [2.6628, 5.4112]], grad_fn=<AddmmBackward0>)\n"
     ]
    }
   ],
   "source": [
    "# Definiamo un layer lineare: input con 3 feature, output con 2 feature\n",
    "fc1 = nn.Linear(in_features=3, out_features=256)\n",
    "fc2 = nn.Linear(in_features=256, out_features=2)\n",
    "\n",
    "# Esempio di input: batch di 4 esempi, ciascuno con 3 feature\n",
    "input_matrix = torch.tensor([\n",
    "    [1.0, 2.0, 3.0],\n",
    "    [4.0, 5.0, 6.0],\n",
    "    [7.0, 8.0, 9.0],\n",
    "    [10.0, 11.0, 12.0]\n",
    "])  # shape: (4, 3)\n",
    "\n",
    "# Passaggio della matrice al layer\n",
    "output = fc1(input_matrix)\n",
    "print(output)\n",
    "output = fc2(output)\n",
    "\n",
    "print(\"Output:\", output)"
   ]
  }
 ],
 "metadata": {
  "kernelspec": {
   "display_name": "deep",
   "language": "python",
   "name": "python3"
  },
  "language_info": {
   "codemirror_mode": {
    "name": "ipython",
    "version": 3
   },
   "file_extension": ".py",
   "mimetype": "text/x-python",
   "name": "python",
   "nbconvert_exporter": "python",
   "pygments_lexer": "ipython3",
   "version": "3.11.13"
  }
 },
 "nbformat": 4,
 "nbformat_minor": 5
}
