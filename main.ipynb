{
 "cells": [
  {
   "cell_type": "code",
   "execution_count": 1,
   "id": "4d0b2429",
   "metadata": {},
   "outputs": [],
   "source": [
    "from environment import Environment\n",
    "from magiccube import Cube\n",
    "from agents import A2C, DQN, PPO\n",
    "import yaml\n",
    "import numpy as np\n",
    "import itertools\n",
    "import torch"
   ]
  },
  {
   "cell_type": "code",
   "execution_count": 2,
   "id": "50e3522d",
   "metadata": {},
   "outputs": [],
   "source": [
    "args = yaml.safe_load(open(\"config.yaml\", \"r\"))\n",
    "\n",
    "env = Environment(\n",
    "    method=\"LBL\",\n",
    "    size=3,\n",
    "    args=args[\"environment\"]\n",
    ")\n",
    "\n",
    "agent = DQN(env, args[\"DQN\"])"
   ]
  },
  {
   "cell_type": "code",
   "execution_count": 3,
   "id": "fa9012fe",
   "metadata": {},
   "outputs": [
    {
     "name": "stdout",
     "output_type": "stream",
     "text": [
      "          W  W  W                   \n",
      "          W  W  W                   \n",
      "          W  W  W                   \n",
      " O  O  O  G  G  G  R  R  R  B  B  B \n",
      " O  O  O  G  G  G  R  R  R  B  B  B \n",
      " O  O  O  G  G  G  R  R  R  B  B  B \n",
      "          Y  Y  Y                   \n",
      "          Y  Y  Y                   \n",
      "          Y  Y  Y                   \n",
      "\n"
     ]
    }
   ],
   "source": [
    "cube = Cube()\n",
    "print(cube)"
   ]
  },
  {
   "cell_type": "code",
   "execution_count": null,
   "id": "ebd13aeb",
   "metadata": {},
   "outputs": [
    {
     "name": "stdout",
     "output_type": "stream",
     "text": [
      "[[[ 3  4  1  0  0]\n",
      "  [ 2  5 -1  1 16]\n",
      "  [ 0  2  5  2 25]\n",
      "  [ 1 -1  3  3  1]\n",
      "  [ 1 -1 -1  4  4]\n",
      "  [ 0 -1  5  5 22]\n",
      "  [ 1  5  2  6  8]\n",
      "  [ 1  2 -1  7  7]\n",
      "  [ 1  4  2  8  6]\n",
      "  [-1  3  4  9  9]\n",
      "  [-1  3 -1 10 10]\n",
      "  [-1  0  2 11 24]\n",
      "  [-1 -1  4 12 12]\n",
      "  [-1 -1  5 13 13]\n",
      "  [-1  5  1 14  5]\n",
      "  [-1  2 -1 15 15]\n",
      "  [-1  0  3 16 18]\n",
      "  [ 5  1  3 17  2]\n",
      "  [ 0  4 -1 18 20]\n",
      "  [ 0  2  4 19 23]\n",
      "  [ 4 -1  2 20 14]\n",
      "  [ 0 -1 -1 21 21]\n",
      "  [ 1 -1  4 22  3]\n",
      "  [ 3  5  0 23 19]\n",
      "  [ 3  5 -1 24 11]\n",
      "  [ 0  3  4 25 17]]]\n"
     ]
    }
   ],
   "source": [
    "env.scramble()\n",
    "print(env.state2)\n",
    "print(env.state2.shape)"
   ]
  },
  {
   "cell_type": "code",
   "execution_count": 4,
   "id": "3ceb57fd",
   "metadata": {},
   "outputs": [],
   "source": [
    "import torch\n",
    "import torch.nn as nn"
   ]
  },
  {
   "cell_type": "code",
   "execution_count": 5,
   "id": "1227b636",
   "metadata": {},
   "outputs": [
    {
     "name": "stdout",
     "output_type": "stream",
     "text": [
      "tensor([[ 0.4779, -0.3759,  0.7937,  ..., -0.5165,  0.2668, -0.6472],\n",
      "        [ 1.9035,  0.3834,  1.0553,  ..., -1.0488,  0.5531, -0.7500],\n",
      "        [ 3.3291,  1.1427,  1.3170,  ..., -1.5811,  0.8395, -0.8528],\n",
      "        [ 4.7547,  1.9020,  1.5787,  ..., -2.1135,  1.1258, -0.9556]],\n",
      "       grad_fn=<AddmmBackward0>)\n",
      "Output: tensor([[ 1.2043, -0.8222],\n",
      "        [ 3.7111, -2.4189],\n",
      "        [ 6.2179, -4.0155],\n",
      "        [ 8.7247, -5.6122]], grad_fn=<AddmmBackward0>)\n"
     ]
    }
   ],
   "source": [
    "# Definiamo un layer lineare: input con 3 feature, output con 2 feature\n",
    "fc1 = nn.Linear(in_features=3, out_features=256)\n",
    "fc2 = nn.Linear(in_features=256, out_features=2)\n",
    "\n",
    "# Esempio di input: batch di 4 esempi, ciascuno con 3 feature\n",
    "input_matrix = torch.tensor([\n",
    "    [1.0, 2.0, 3.0],\n",
    "    [4.0, 5.0, 6.0],\n",
    "    [7.0, 8.0, 9.0],\n",
    "    [10.0, 11.0, 12.0]\n",
    "])  # shape: (4, 3)\n",
    "\n",
    "# Passaggio della matrice al layer\n",
    "output = fc1(input_matrix)\n",
    "print(output)\n",
    "output = fc2(output)\n",
    "\n",
    "print(\"Output:\", output)"
   ]
  }
 ],
 "metadata": {
  "kernelspec": {
   "display_name": "venv (3.10.9)",
   "language": "python",
   "name": "python3"
  },
  "language_info": {
   "codemirror_mode": {
    "name": "ipython",
    "version": 3
   },
   "file_extension": ".py",
   "mimetype": "text/x-python",
   "name": "python",
   "nbconvert_exporter": "python",
   "pygments_lexer": "ipython3",
   "version": "3.10.9"
  }
 },
 "nbformat": 4,
 "nbformat_minor": 5
}
