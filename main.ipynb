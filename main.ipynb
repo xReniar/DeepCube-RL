{
 "cells": [
  {
   "cell_type": "code",
   "execution_count": 1,
   "id": "4d0b2429",
   "metadata": {},
   "outputs": [],
   "source": [
    "from environment import Environment, Phase\n",
    "from magiccube import Cube\n",
    "from agents import A2C, DQN, PPO\n",
    "import yaml\n",
    "import numpy as np\n",
    "import itertools\n",
    "import torch\n",
    "import torch.nn as nn"
   ]
  },
  {
   "cell_type": "code",
   "execution_count": 2,
   "id": "50e3522d",
   "metadata": {},
   "outputs": [],
   "source": [
    "args = yaml.safe_load(open(\"config.yaml\", \"r\"))\n",
    "phase = Phase.CROSS\n",
    "\n",
    "env = Environment(\n",
    "    method=\"LBL\",\n",
    "    phase=phase,\n",
    "    size=3,\n",
    "    args=args[\"environment\"]\n",
    ")\n",
    "\n",
    "agent = DQN(env, args[phase.value])"
   ]
  },
  {
   "cell_type": "code",
   "execution_count": 3,
   "id": "fa9012fe",
   "metadata": {},
   "outputs": [
    {
     "name": "stdout",
     "output_type": "stream",
     "text": [
      "          W  W  W                   \n",
      "          W  W  W                   \n",
      "          W  W  W                   \n",
      " O  O  O  G  G  G  R  R  R  B  B  B \n",
      " O  O  O  G  G  G  R  R  R  B  B  B \n",
      " O  O  O  G  G  G  R  R  R  B  B  B \n",
      "          Y  Y  Y                   \n",
      "          Y  Y  Y                   \n",
      "          Y  Y  Y                   \n",
      "\n"
     ]
    }
   ],
   "source": [
    "cube = Cube()\n",
    "print(cube)"
   ]
  },
  {
   "cell_type": "code",
   "execution_count": 4,
   "id": "ebd13aeb",
   "metadata": {},
   "outputs": [
    {
     "name": "stdout",
     "output_type": "stream",
     "text": [
      "[[[ 5  2  0  0 25]\n",
      "  [ 4  3 -1  1  9]\n",
      "  [ 1  2  4  2  6]\n",
      "  [ 0 -1  4  3 20]\n",
      "  [ 1 -1 -1  4  4]\n",
      "  [ 2 -1  0  5 24]\n",
      "  [ 5  3  0  6 19]\n",
      "  [ 5  2 -1  7 16]\n",
      "  [ 3  1  5  8  2]\n",
      "  [-1  2  1  9  7]\n",
      "  [-1  3 -1 10 10]\n",
      "  [-1  2  4 11 14]\n",
      "  [-1 -1  4 12 12]\n",
      "  [-1 -1  5 13 13]\n",
      "  [-1  3  0 14 18]\n",
      "  [-1  2 -1 15 15]\n",
      "  [-1  1  5 16  5]\n",
      "  [ 5  2  1 17  8]\n",
      "  [ 5  3 -1 18 11]\n",
      "  [ 3  4  1 19  0]\n",
      "  [ 1 -1  4 20  3]\n",
      "  [ 0 -1 -1 21 21]\n",
      "  [ 3 -1  1 22  1]\n",
      "  [ 4  3  0 23 17]\n",
      "  [ 5  0 -1 24 22]\n",
      "  [ 0  4  2 25 23]]]\n",
      "          Y  Y  Y                   \n",
      "          W  W  R                   \n",
      "          O  O  B                   \n",
      " G  G  Y  G  G  W  R  G  B  R  R  R \n",
      " R  O  W  R  G  O  Y  R  O  B  B  B \n",
      " G  B  O  B  B  O  Y  G  G  O  O  R \n",
      "          W  W  B                   \n",
      "          Y  Y  Y                   \n",
      "          W  W  W                   \n",
      "\n",
      "tensor([[-0.0907, -0.0390, -0.1183, -0.0527, -0.1265, -0.0816,  0.0156,  0.0962,\n",
      "          0.1045, -0.0003,  0.0097,  0.1079]], grad_fn=<AddmmBackward0>)\n"
     ]
    }
   ],
   "source": [
    "#env.scramble()\n",
    "env.step(\"B'\")\n",
    "print(env.state2)\n",
    "#print(env.state2.shape)\n",
    "#print(env.algorithm.status())\n",
    "print(env.cube)\n",
    "print(agent.policy_net(agent.state_to_tensor(env.state2)))"
   ]
  },
  {
   "cell_type": "code",
   "execution_count": 5,
   "id": "573fdf8f",
   "metadata": {},
   "outputs": [],
   "source": [
    "hidden_size = 128\n",
    "\n",
    "embedding = nn.Linear(5, hidden_size)\n",
    "\n",
    "attention = nn.MultiheadAttention(\n",
    "    embed_dim=hidden_size,\n",
    "    num_heads=4,\n",
    "    batch_first=True\n",
    ")\n",
    "\n",
    "layer_norm = nn.LayerNorm(hidden_size)\n",
    "\n",
    "ffn = nn.Sequential(\n",
    "    nn.Linear(hidden_size, hidden_size),\n",
    "    nn.ReLU(inplace=True)\n",
    ")\n",
    "\n",
    "output_layer = nn.Sequential(\n",
    "    nn.Linear(hidden_size * 26, hidden_size * 12),\n",
    "    nn.ReLU(inplace=True),\n",
    "    nn.Linear(hidden_size * 12, hidden_size * 6),\n",
    "    nn.ReLU(inplace=True),\n",
    "    nn.Linear(hidden_size * 6, hidden_size * 3),\n",
    "    nn.ReLU(inplace=True),\n",
    "    nn.Linear(hidden_size * 3, hidden_size),\n",
    "    nn.ReLU(inplace=True),\n",
    "    nn.Linear(hidden_size, hidden_size // 2),\n",
    "    nn.ReLU(inplace=True),\n",
    "    nn.Linear(hidden_size // 2, 12)\n",
    ")\n"
   ]
  },
  {
   "cell_type": "code",
   "execution_count": 6,
   "id": "c454da61",
   "metadata": {},
   "outputs": [
    {
     "data": {
      "text/plain": [
       "tensor([[ 0.0610, -0.0051, -0.0321,  0.0963,  0.0108, -0.0778,  0.0477,  0.0442,\n",
       "          0.0501, -0.1090,  0.0114, -0.0915]], grad_fn=<AddmmBackward0>)"
      ]
     },
     "execution_count": 6,
     "metadata": {},
     "output_type": "execute_result"
    }
   ],
   "source": [
    "state_tensor = torch.from_numpy(env.state2).float()\n",
    "embedded = embedding(state_tensor)\n",
    "attn_output, _ = attention(embedded, embedded, embedded)\n",
    "attn_output = layer_norm(embedded + attn_output)\n",
    "ffn_output = ffn(attn_output)\n",
    "output = layer_norm(attn_output + ffn_output)\n",
    "\n",
    "flattened = output.view(1, -1)\n",
    "output = output_layer(flattened)\n",
    "\n",
    "output"
   ]
  },
  {
   "cell_type": "code",
   "execution_count": null,
   "id": "1227b636",
   "metadata": {},
   "outputs": [
    {
     "name": "stdout",
     "output_type": "stream",
     "text": [
      "tensor([[ -0.6882,   1.2118,  -2.9131,  ...,   0.3695,   1.3784,  -0.3020],\n",
      "        [ -1.2077,   3.4992,  -6.9242,  ...,   1.0029,   3.5215,   0.8250],\n",
      "        [ -1.7271,   5.7865, -10.9354,  ...,   1.6362,   5.6646,   1.9521],\n",
      "        [ -2.2465,   8.0739, -14.9465,  ...,   2.2696,   7.8077,   3.0792]],\n",
      "       grad_fn=<AddmmBackward0>)\n",
      "Output: tensor([[-0.6831,  0.1601],\n",
      "        [-1.3377,  0.5216],\n",
      "        [-1.9924,  0.8831],\n",
      "        [-2.6470,  1.2446]], grad_fn=<AddmmBackward0>)\n"
     ]
    }
   ],
   "source": [
    "# Definiamo un layer lineare: input con 3 feature, output con 2 feature\n",
    "fc1 = nn.Linear(in_features=3, out_features=256)\n",
    "fc2 = nn.Linear(in_features=256, out_features=2)\n",
    "\n",
    "# Esempio di input: batch di 4 esempi, ciascuno con 3 feature\n",
    "input_matrix = torch.tensor([\n",
    "    [1.0, 2.0, 3.0],\n",
    "    [4.0, 5.0, 6.0],\n",
    "    [7.0, 8.0, 9.0],\n",
    "    [10.0, 11.0, 12.0]\n",
    "])  # shape: (4, 3)\n",
    "\n",
    "# Passaggio della matrice al layer\n",
    "output = fc1(input_matrix)\n",
    "print(output)\n",
    "output = fc2(output)\n",
    "\n",
    "print(\"Output:\", output)"
   ]
  }
 ],
 "metadata": {
  "kernelspec": {
   "display_name": "venv (3.10.9)",
   "language": "python",
   "name": "python3"
  },
  "language_info": {
   "codemirror_mode": {
    "name": "ipython",
    "version": 3
   },
   "file_extension": ".py",
   "mimetype": "text/x-python",
   "name": "python",
   "nbconvert_exporter": "python",
   "pygments_lexer": "ipython3",
   "version": "3.10.9"
  }
 },
 "nbformat": 4,
 "nbformat_minor": 5
}
