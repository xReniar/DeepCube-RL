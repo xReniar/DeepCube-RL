{
 "cells": [
  {
   "cell_type": "code",
   "execution_count": 1,
   "id": "4d0b2429",
   "metadata": {},
   "outputs": [],
   "source": [
    "from environment import Environment\n",
    "from magiccube import Cube\n",
    "from agents import A2C, DQN, PPO\n",
    "import yaml\n",
    "import numpy as np\n",
    "import itertools\n",
    "import torch\n",
    "import torch.nn as nn"
   ]
  },
  {
   "cell_type": "code",
   "execution_count": 2,
   "id": "50e3522d",
   "metadata": {},
   "outputs": [
    {
     "name": "stdout",
     "output_type": "stream",
     "text": [
      "(22,)\n"
     ]
    }
   ],
   "source": [
    "args = yaml.safe_load(open(\"config.yaml\", \"r\"))\n",
    "phase = \"f2l\"\n",
    "\n",
    "env = Environment(\n",
    "    phase=phase,\n",
    "    args=args[\"environment\"]\n",
    ")\n",
    "\n",
    "agent = DQN(env, phase, args)"
   ]
  },
  {
   "cell_type": "code",
   "execution_count": 3,
   "id": "fa9012fe",
   "metadata": {},
   "outputs": [
    {
     "name": "stdout",
     "output_type": "stream",
     "text": [
      "          G  R  R                   \n",
      "          O  W  G                   \n",
      "          G  G  Y                   \n",
      " O  B  Y  R  O  G  O  R  B  W  B  W \n",
      " O  O  W  G  G  R  W  R  B  W  B  W \n",
      " Y  O  O  Y  G  R  G  R  O  B  B  B \n",
      "          B  Y  W                   \n",
      "          Y  Y  Y                   \n",
      "          R  Y  W                   \n",
      "\n"
     ]
    }
   ],
   "source": [
    "cube = Cube()\n",
    "print(env.cube)"
   ]
  },
  {
   "cell_type": "code",
   "execution_count": 4,
   "id": "441bb29b",
   "metadata": {},
   "outputs": [
    {
     "name": "stdout",
     "output_type": "stream",
     "text": [
      "          O  R  R                   \n",
      "          O  W  G                   \n",
      "          B  W  R                   \n",
      " G  B  Y  O  B  W  G  Y  G  Y  W  Y \n",
      " B  O  R  Y  G  W  O  R  W  G  B  Y \n",
      " Y  Y  B  W  R  B  R  O  W  G  G  B \n",
      "          O  B  W                   \n",
      "          O  Y  G                   \n",
      "          R  R  O                   \n",
      "\n"
     ]
    }
   ],
   "source": [
    "env.cube.rotate(cube.generate_random_moves())\n",
    "print(env.cube)"
   ]
  },
  {
   "cell_type": "code",
   "execution_count": 5,
   "id": "ebd13aeb",
   "metadata": {},
   "outputs": [
    {
     "name": "stdout",
     "output_type": "stream",
     "text": [
      "[[[ 3  1  5  0  2]\n",
      "  [ 1  3 -1  1  1]\n",
      "  [ 0  3  4  2 17]\n",
      "  [ 1 -1  2  3  7]\n",
      "  [ 1 -1 -1  4  4]\n",
      "  [ 1 -1  4  5  3]\n",
      "  [ 0  2  5  6 25]\n",
      "  [ 4  2 -1  7 14]\n",
      "  [ 4  1  3  8  0]\n",
      "  [-1  3  4  9  9]\n",
      "  [-1  3 -1 10 10]\n",
      "  [-1  3  5 11 11]\n",
      "  [-1 -1  4 12 12]\n",
      "  [-1 -1  5 13 13]\n",
      "  [-1  5  0 14 22]\n",
      "  [-1  2 -1 15 15]\n",
      "  [-1  5  1 16  5]\n",
      "  [ 4  2  0 17 23]\n",
      "  [ 0  3 -1 18 18]\n",
      "  [ 4  2  1 19  6]\n",
      "  [ 0 -1  2 20 24]\n",
      "  [ 0 -1 -1 21 21]\n",
      "  [ 5 -1  2 22 16]\n",
      "  [ 5  1  2 23  8]\n",
      "  [ 0  4 -1 24 20]\n",
      "  [ 0  5  3 25 19]]]\n",
      "tensor([[-0.1773,  0.5022, -0.1550, -0.3388, -0.0328,  0.0403, -0.0099,  0.2207,\n",
      "         -0.0181,  0.0616, -0.0954, -0.0290,  0.0078,  0.0048,  0.0152,  0.0463,\n",
      "          0.1078,  0.1360,  0.3220, -0.1768,  0.2346,  0.1436]],\n",
      "       device='cuda:0', grad_fn=<AddmmBackward0>)\n"
     ]
    }
   ],
   "source": [
    "env.scramble()\n",
    "#obs, reward, done = env.step(\"B'\")\n",
    "print(env.state2) \n",
    "#print(env.state2.shape)\n",
    "#print(env.algorithm.status())\n",
    "#print(env.cube)\n",
    "print(agent.policy_net(agent.state_to_tensor(env.state2)))"
   ]
  },
  {
   "cell_type": "code",
   "execution_count": 6,
   "id": "bb01edac",
   "metadata": {},
   "outputs": [
    {
     "name": "stdout",
     "output_type": "stream",
     "text": [
      "          G  G  R                   \n",
      "          G  W  B                   \n",
      "          W  G  Y                   \n",
      " Y  R  O  G  O  B  R  R  W  G  W  O \n",
      " O  O  R  W  G  B  W  R  O  W  B  B \n",
      " B  O  Y  G  G  B  W  R  R  W  B  Y \n",
      "          R  Y  O                   \n",
      "          Y  Y  Y                   \n",
      "          O  Y  B                   \n",
      "\n"
     ]
    }
   ],
   "source": [
    "env.scramble()\n",
    "print(env.cube)"
   ]
  },
  {
   "cell_type": "code",
   "execution_count": 7,
   "id": "573fdf8f",
   "metadata": {},
   "outputs": [],
   "source": [
    "hidden_size = 128\n",
    "\n",
    "embedding = nn.Linear(5, hidden_size)\n",
    "\n",
    "attention = nn.MultiheadAttention(\n",
    "    embed_dim=hidden_size,\n",
    "    num_heads=4,\n",
    "    batch_first=True\n",
    ")\n",
    "\n",
    "layer_norm = nn.LayerNorm(hidden_size)\n",
    "\n",
    "ffn = nn.Sequential(\n",
    "    nn.Linear(hidden_size, hidden_size),\n",
    "    nn.ReLU(inplace=True)\n",
    ")\n",
    "\n",
    "output_layer = nn.Sequential(\n",
    "    nn.Linear(hidden_size * 26, hidden_size * 12),\n",
    "    nn.ReLU(inplace=True),\n",
    "    nn.Linear(hidden_size * 12, hidden_size * 6),\n",
    "    nn.ReLU(inplace=True),\n",
    "    nn.Linear(hidden_size * 6, hidden_size * 3),\n",
    "    nn.ReLU(inplace=True),\n",
    "    nn.Linear(hidden_size * 3, hidden_size),\n",
    "    nn.ReLU(inplace=True),\n",
    "    nn.Linear(hidden_size, hidden_size // 2),\n",
    "    nn.ReLU(inplace=True),\n",
    "    nn.Linear(hidden_size // 2, 12)\n",
    ")\n"
   ]
  },
  {
   "cell_type": "code",
   "execution_count": 8,
   "id": "c454da61",
   "metadata": {},
   "outputs": [
    {
     "data": {
      "text/plain": [
       "tensor([[ 0.0269, -0.0699,  0.0523, -0.0387, -0.0332,  0.0554,  0.0810, -0.1355,\n",
       "          0.1129, -0.0106, -0.0498, -0.1004]], grad_fn=<AddmmBackward0>)"
      ]
     },
     "execution_count": 8,
     "metadata": {},
     "output_type": "execute_result"
    }
   ],
   "source": [
    "state_tensor = torch.from_numpy(env.state2).float()\n",
    "embedded = embedding(state_tensor)\n",
    "attn_output, _ = attention(embedded, embedded, embedded)\n",
    "attn_output = layer_norm(embedded + attn_output)\n",
    "ffn_output = ffn(attn_output)\n",
    "output = layer_norm(attn_output + ffn_output)\n",
    "\n",
    "flattened = output.view(1, -1)\n",
    "output = output_layer(flattened)\n",
    "\n",
    "output"
   ]
  },
  {
   "cell_type": "code",
   "execution_count": 9,
   "id": "1227b636",
   "metadata": {},
   "outputs": [
    {
     "name": "stdout",
     "output_type": "stream",
     "text": [
      "tensor([[ 1.5589,  0.2432, -0.2406,  ..., -0.7252,  0.1765,  0.4300],\n",
      "        [ 2.1287,  1.6550,  0.6083,  ..., -0.7340, -0.0186,  0.3546],\n",
      "        [ 2.6986,  3.0669,  1.4573,  ..., -0.7429, -0.2137,  0.2791],\n",
      "        [ 3.2684,  4.4787,  2.3062,  ..., -0.7518, -0.4087,  0.2037]],\n",
      "       grad_fn=<AddmmBackward0>)\n",
      "Output: tensor([[-0.8749,  0.7572],\n",
      "        [-1.9000,  1.9852],\n",
      "        [-2.9250,  3.2132],\n",
      "        [-3.9501,  4.4413]], grad_fn=<AddmmBackward0>)\n"
     ]
    }
   ],
   "source": [
    "# Definiamo un layer lineare: input con 3 feature, output con 2 feature\n",
    "fc1 = nn.Linear(in_features=3, out_features=256)\n",
    "fc2 = nn.Linear(in_features=256, out_features=2)\n",
    "\n",
    "# Esempio di input: batch di 4 esempi, ciascuno con 3 feature\n",
    "input_matrix = torch.tensor([\n",
    "    [1.0, 2.0, 3.0],\n",
    "    [4.0, 5.0, 6.0],\n",
    "    [7.0, 8.0, 9.0],\n",
    "    [10.0, 11.0, 12.0]\n",
    "])  # shape: (4, 3)\n",
    "\n",
    "# Passaggio della matrice al layer\n",
    "output = fc1(input_matrix)\n",
    "print(output)\n",
    "output = fc2(output)\n",
    "\n",
    "print(\"Output:\", output)"
   ]
  }
 ],
 "metadata": {
  "kernelspec": {
   "display_name": "deep",
   "language": "python",
   "name": "python3"
  },
  "language_info": {
   "codemirror_mode": {
    "name": "ipython",
    "version": 3
   },
   "file_extension": ".py",
   "mimetype": "text/x-python",
   "name": "python",
   "nbconvert_exporter": "python",
   "pygments_lexer": "ipython3",
   "version": "3.11.13"
  }
 },
 "nbformat": 4,
 "nbformat_minor": 5
}
