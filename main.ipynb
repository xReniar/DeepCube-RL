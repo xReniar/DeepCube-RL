{
 "cells": [
  {
   "cell_type": "code",
   "execution_count": 1,
   "id": "4d0b2429",
   "metadata": {},
   "outputs": [],
   "source": [
    "from environment import Environment\n",
    "from magiccube import Cube\n",
    "from agents import A2C, DQN, PPO\n",
    "import yaml\n",
    "import numpy as np\n",
    "import itertools\n",
    "import torch\n",
    "import torch.nn as nn"
   ]
  },
  {
   "cell_type": "code",
   "execution_count": 2,
   "id": "50e3522d",
   "metadata": {},
   "outputs": [],
   "source": [
    "args = yaml.safe_load(open(\"config.yaml\", \"r\"))\n",
    "phase = \"f2l\"\n",
    "\n",
    "env = Environment(\n",
    "    phase=phase,\n",
    "    args=args[\"environment\"]\n",
    ")\n",
    "\n",
    "agent = DQN(env, args[\"DQN\"][phase])"
   ]
  },
  {
   "cell_type": "code",
   "execution_count": 3,
   "id": "fa9012fe",
   "metadata": {},
   "outputs": [
    {
     "name": "stdout",
     "output_type": "stream",
     "text": [
      "          G  R  B                   \n",
      "          B  W  W                   \n",
      "          B  G  R                   \n",
      " W  W  Y  O  W  G  Y  R  O  W  B  R \n",
      " W  O  B  O  G  R  G  R  O  G  B  O \n",
      " O  O  B  R  G  G  O  R  R  B  B  Y \n",
      "          W  Y  W                   \n",
      "          Y  Y  Y                   \n",
      "          G  Y  Y                   \n",
      "\n"
     ]
    }
   ],
   "source": [
    "cube = Cube()\n",
    "print(env.cube)"
   ]
  },
  {
   "cell_type": "code",
   "execution_count": 4,
   "id": "441bb29b",
   "metadata": {},
   "outputs": [
    {
     "name": "stdout",
     "output_type": "stream",
     "text": [
      "          G  R  B                   \n",
      "          G  W  O                   \n",
      "          R  Y  R                   \n",
      " R  W  Y  B  B  W  G  W  W  R  B  Y \n",
      " B  O  B  W  G  Y  O  R  R  G  B  O \n",
      " G  O  O  B  R  Y  B  Y  G  O  W  O \n",
      "          W  Y  O                   \n",
      "          G  Y  G                   \n",
      "          Y  R  W                   \n",
      "\n"
     ]
    }
   ],
   "source": [
    "env.cube.rotate(cube.generate_random_moves())\n",
    "print(env.cube)"
   ]
  },
  {
   "cell_type": "code",
   "execution_count": 5,
   "id": "ebd13aeb",
   "metadata": {},
   "outputs": [
    {
     "name": "stdout",
     "output_type": "stream",
     "text": [
      "[[[ 1  4  2  0  6]\n",
      "  [ 1  3 -1  1  1]\n",
      "  [ 3  5  1  2  2]\n",
      "  [ 4 -1  1  3  3]\n",
      "  [ 1 -1 -1  4  4]\n",
      "  [ 5 -1  0  5 22]\n",
      "  [ 2  0  4  6 23]\n",
      "  [ 4  0 -1  7 20]\n",
      "  [ 3  0  4  8 17]\n",
      "  [-1  3  4  9  9]\n",
      "  [-1  3 -1 10 10]\n",
      "  [-1  3  5 11 11]\n",
      "  [-1 -1  4 12 12]\n",
      "  [-1 -1  5 13 13]\n",
      "  [-1  1  5 14  5]\n",
      "  [-1  2 -1 15 15]\n",
      "  [-1  4  2 16 14]\n",
      "  [ 1  5  2 17  8]\n",
      "  [ 0  3 -1 18 18]\n",
      "  [ 1  3  4 19  0]\n",
      "  [ 2 -1  0 20 24]\n",
      "  [ 0 -1 -1 21 21]\n",
      "  [ 2 -1  5 22 16]\n",
      "  [ 0  5  2 23 25]\n",
      "  [ 2  1 -1 24  7]\n",
      "  [ 3  0  5 25 19]]]\n",
      "tensor([[ 0.0049, -0.1664, -0.0466, -0.0674,  0.0008,  0.0369, -0.3669,  0.1426,\n",
      "         -0.0324,  0.4433, -0.1873, -0.0788,  0.3100,  0.7080, -0.0664,  0.0901,\n",
      "         -0.3253,  0.5908, -0.0874,  0.0139,  0.0235]], device='cuda:0',\n",
      "       grad_fn=<AddmmBackward0>)\n"
     ]
    }
   ],
   "source": [
    "env.scramble()\n",
    "#obs, reward, done = env.step(\"B'\")\n",
    "print(env.state2) \n",
    "#print(env.state2.shape)\n",
    "#print(env.algorithm.status())\n",
    "#print(env.cube)\n",
    "print(agent.policy_net(agent.state_to_tensor(env.state2)))"
   ]
  },
  {
   "cell_type": "code",
   "execution_count": 115,
   "id": "bb01edac",
   "metadata": {},
   "outputs": [
    {
     "name": "stdout",
     "output_type": "stream",
     "text": [
      "          O  W  R                   \n",
      "          R  W  O                   \n",
      "          B  B  R                   \n",
      " G  B  O  W  W  G  Y  W  W  G  R  Y \n",
      " G  O  W  G  G  G  R  R  B  O  B  O \n",
      " W  O  W  G  G  B  Y  R  Y  B  B  R \n",
      "          O  Y  R                   \n",
      "          Y  Y  Y                   \n",
      "          B  Y  O                   \n",
      "\n"
     ]
    }
   ],
   "source": [
    "env.scramble()\n",
    "print(env.cube)"
   ]
  },
  {
   "cell_type": "code",
   "execution_count": 7,
   "id": "573fdf8f",
   "metadata": {},
   "outputs": [],
   "source": [
    "hidden_size = 128\n",
    "\n",
    "embedding = nn.Linear(5, hidden_size)\n",
    "\n",
    "attention = nn.MultiheadAttention(\n",
    "    embed_dim=hidden_size,\n",
    "    num_heads=4,\n",
    "    batch_first=True\n",
    ")\n",
    "\n",
    "layer_norm = nn.LayerNorm(hidden_size)\n",
    "\n",
    "ffn = nn.Sequential(\n",
    "    nn.Linear(hidden_size, hidden_size),\n",
    "    nn.ReLU(inplace=True)\n",
    ")\n",
    "\n",
    "output_layer = nn.Sequential(\n",
    "    nn.Linear(hidden_size * 26, hidden_size * 12),\n",
    "    nn.ReLU(inplace=True),\n",
    "    nn.Linear(hidden_size * 12, hidden_size * 6),\n",
    "    nn.ReLU(inplace=True),\n",
    "    nn.Linear(hidden_size * 6, hidden_size * 3),\n",
    "    nn.ReLU(inplace=True),\n",
    "    nn.Linear(hidden_size * 3, hidden_size),\n",
    "    nn.ReLU(inplace=True),\n",
    "    nn.Linear(hidden_size, hidden_size // 2),\n",
    "    nn.ReLU(inplace=True),\n",
    "    nn.Linear(hidden_size // 2, 12)\n",
    ")\n"
   ]
  },
  {
   "cell_type": "code",
   "execution_count": 8,
   "id": "c454da61",
   "metadata": {},
   "outputs": [
    {
     "data": {
      "text/plain": [
       "tensor([[-0.0173,  0.0415, -0.0973, -0.0938,  0.0709,  0.0381,  0.0807, -0.1315,\n",
       "          0.0553, -0.0070, -0.0303,  0.0105]], grad_fn=<AddmmBackward0>)"
      ]
     },
     "execution_count": 8,
     "metadata": {},
     "output_type": "execute_result"
    }
   ],
   "source": [
    "state_tensor = torch.from_numpy(env.state2).float()\n",
    "embedded = embedding(state_tensor)\n",
    "attn_output, _ = attention(embedded, embedded, embedded)\n",
    "attn_output = layer_norm(embedded + attn_output)\n",
    "ffn_output = ffn(attn_output)\n",
    "output = layer_norm(attn_output + ffn_output)\n",
    "\n",
    "flattened = output.view(1, -1)\n",
    "output = output_layer(flattened)\n",
    "\n",
    "output"
   ]
  },
  {
   "cell_type": "code",
   "execution_count": 9,
   "id": "1227b636",
   "metadata": {},
   "outputs": [
    {
     "name": "stdout",
     "output_type": "stream",
     "text": [
      "tensor([[2.0591e+00, 3.2830e+00, 8.9323e-01,  ..., 2.3303e+00, 1.0738e-02,\n",
      "         2.6702e+00],\n",
      "        [3.4345e+00, 7.7344e+00, 1.8468e+00,  ..., 4.5232e+00, 1.3383e+00,\n",
      "         6.6655e+00],\n",
      "        [4.8100e+00, 1.2186e+01, 2.8004e+00,  ..., 6.7161e+00, 2.6659e+00,\n",
      "         1.0661e+01],\n",
      "        [6.1855e+00, 1.6637e+01, 3.7540e+00,  ..., 8.9091e+00, 3.9935e+00,\n",
      "         1.4656e+01]], grad_fn=<AddmmBackward0>)\n",
      "Output: tensor([[-0.2472, -0.4388],\n",
      "        [-0.2734, -1.8290],\n",
      "        [-0.2997, -3.2192],\n",
      "        [-0.3259, -4.6094]], grad_fn=<AddmmBackward0>)\n"
     ]
    }
   ],
   "source": [
    "# Definiamo un layer lineare: input con 3 feature, output con 2 feature\n",
    "fc1 = nn.Linear(in_features=3, out_features=256)\n",
    "fc2 = nn.Linear(in_features=256, out_features=2)\n",
    "\n",
    "# Esempio di input: batch di 4 esempi, ciascuno con 3 feature\n",
    "input_matrix = torch.tensor([\n",
    "    [1.0, 2.0, 3.0],\n",
    "    [4.0, 5.0, 6.0],\n",
    "    [7.0, 8.0, 9.0],\n",
    "    [10.0, 11.0, 12.0]\n",
    "])  # shape: (4, 3)\n",
    "\n",
    "# Passaggio della matrice al layer\n",
    "output = fc1(input_matrix)\n",
    "print(output)\n",
    "output = fc2(output)\n",
    "\n",
    "print(\"Output:\", output)"
   ]
  }
 ],
 "metadata": {
  "kernelspec": {
   "display_name": "deep",
   "language": "python",
   "name": "python3"
  },
  "language_info": {
   "codemirror_mode": {
    "name": "ipython",
    "version": 3
   },
   "file_extension": ".py",
   "mimetype": "text/x-python",
   "name": "python",
   "nbconvert_exporter": "python",
   "pygments_lexer": "ipython3",
   "version": "3.11.13"
  }
 },
 "nbformat": 4,
 "nbformat_minor": 5
}
