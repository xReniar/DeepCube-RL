{
 "cells": [
  {
   "cell_type": "code",
   "execution_count": 1,
   "id": "4d0b2429",
   "metadata": {},
   "outputs": [],
   "source": [
    "from environment import Environment\n",
    "from magiccube import Cube\n",
    "from agents import A2C, DQN, PPO\n",
    "import yaml\n",
    "import numpy as np\n",
    "import itertools\n",
    "import torch\n",
    "import torch.nn as nn"
   ]
  },
  {
   "cell_type": "code",
   "execution_count": 2,
   "id": "50e3522d",
   "metadata": {},
   "outputs": [],
   "source": [
    "args = yaml.safe_load(open(\"config.yaml\", \"r\"))\n",
    "\n",
    "env = Environment(\n",
    "    method=\"LBL\",\n",
    "    size=3,\n",
    "    args=args[\"environment\"]\n",
    ")\n",
    "\n",
    "agent = DQN(env, args[\"DQN\"])"
   ]
  },
  {
   "cell_type": "code",
   "execution_count": 3,
   "id": "fa9012fe",
   "metadata": {},
   "outputs": [
    {
     "name": "stdout",
     "output_type": "stream",
     "text": [
      "          W  W  W                   \n",
      "          W  W  W                   \n",
      "          W  W  W                   \n",
      " O  O  O  G  G  G  R  R  R  B  B  B \n",
      " O  O  O  G  G  G  R  R  R  B  B  B \n",
      " O  O  O  G  G  G  R  R  R  B  B  B \n",
      "          Y  Y  Y                   \n",
      "          Y  Y  Y                   \n",
      "          Y  Y  Y                   \n",
      "\n"
     ]
    }
   ],
   "source": [
    "cube = Cube()\n",
    "print(cube)"
   ]
  },
  {
   "cell_type": "code",
   "execution_count": 4,
   "id": "35ce74f4",
   "metadata": {},
   "outputs": [
    {
     "data": {
      "text/plain": [
       "array([[1, 1, 1, 1],\n",
       "       [1, 1, 1, 1],\n",
       "       [1, 1, 1, 1]])"
      ]
     },
     "execution_count": 4,
     "metadata": {},
     "output_type": "execute_result"
    }
   ],
   "source": [
    "env.algorithm.status()"
   ]
  },
  {
   "cell_type": "code",
   "execution_count": 5,
   "id": "ebd13aeb",
   "metadata": {},
   "outputs": [
    {
     "name": "stdout",
     "output_type": "stream",
     "text": [
      "[[[ 3  0  4  0 17]\n",
      "  [ 1  3 -1  1  1]\n",
      "  [ 1  3  5  2  2]\n",
      "  [ 3 -1  4  3  9]\n",
      "  [ 1 -1 -1  4  4]\n",
      "  [ 1 -1  5  5  5]\n",
      "  [ 3  1  4  6  0]\n",
      "  [ 1  2 -1  7  7]\n",
      "  [ 1  2  5  8  8]\n",
      "  [-1  0  4  9 20]\n",
      "  [-1  3 -1 10 10]\n",
      "  [-1  3  5 11 11]\n",
      "  [-1 -1  4 12 12]\n",
      "  [-1 -1  5 13 13]\n",
      "  [-1  1  4 14  3]\n",
      "  [-1  2 -1 15 15]\n",
      "  [-1  2  5 16 16]\n",
      "  [ 2  0  4 17 23]\n",
      "  [ 0  3 -1 18 18]\n",
      "  [ 0  3  5 19 19]\n",
      "  [ 2 -1  4 20 14]\n",
      "  [ 0 -1 -1 21 21]\n",
      "  [ 0 -1  5 22 22]\n",
      "  [ 2  1  4 23  6]\n",
      "  [ 0  2 -1 24 24]\n",
      "  [ 0  2  5 25 25]]]\n",
      "          O  O  O                   \n",
      "          W  W  W                   \n",
      "          W  W  W                   \n",
      " Y  O  O  G  G  G  R  R  W  B  B  B \n",
      " Y  O  O  G  G  G  R  R  W  B  B  B \n",
      " Y  O  O  G  G  G  R  R  W  B  B  B \n",
      "          Y  Y  Y                   \n",
      "          Y  Y  Y                   \n",
      "          R  R  R                   \n",
      "\n",
      "tensor([[-0.0099, -0.0903,  0.0343, -0.0841, -0.0074,  0.1467,  0.0945, -0.0848,\n",
      "          0.1046,  0.0575, -0.0936, -0.0138]], grad_fn=<AddmmBackward0>)\n"
     ]
    }
   ],
   "source": [
    "#env.scramble()\n",
    "env.step(\"B'\")\n",
    "print(env.state2)\n",
    "#print(env.state2.shape)\n",
    "#print(env.algorithm.status())\n",
    "print(env.cube)\n",
    "print(agent.policy_net(agent.state_to_tensor(env.state2)))"
   ]
  },
  {
   "cell_type": "code",
   "execution_count": 6,
   "id": "573fdf8f",
   "metadata": {},
   "outputs": [],
   "source": [
    "hidden_size = 128\n",
    "\n",
    "embedding = nn.Linear(5, hidden_size)\n",
    "\n",
    "attention = nn.MultiheadAttention(\n",
    "    embed_dim=hidden_size,\n",
    "    num_heads=4,\n",
    "    batch_first=True\n",
    ")\n",
    "\n",
    "layer_norm = nn.LayerNorm(hidden_size)\n",
    "\n",
    "ffn = nn.Sequential(\n",
    "    nn.Linear(hidden_size, hidden_size),\n",
    "    nn.ReLU(inplace=True)\n",
    ")\n",
    "\n",
    "output_layer = nn.Sequential(\n",
    "    nn.Linear(hidden_size * 26, hidden_size * 12),\n",
    "    nn.ReLU(inplace=True),\n",
    "    nn.Linear(hidden_size * 12, hidden_size * 6),\n",
    "    nn.ReLU(inplace=True),\n",
    "    nn.Linear(hidden_size * 6, hidden_size * 3),\n",
    "    nn.ReLU(inplace=True),\n",
    "    nn.Linear(hidden_size * 3, hidden_size),\n",
    "    nn.ReLU(inplace=True),\n",
    "    nn.Linear(hidden_size, hidden_size // 2),\n",
    "    nn.ReLU(inplace=True),\n",
    "    nn.Linear(hidden_size // 2, 12)\n",
    ")\n"
   ]
  },
  {
   "cell_type": "code",
   "execution_count": 7,
   "id": "c454da61",
   "metadata": {},
   "outputs": [
    {
     "data": {
      "text/plain": [
       "tensor([[ 0.0683, -0.0544, -0.0130, -0.0375, -0.0926,  0.0104, -0.0742,  0.0300,\n",
       "         -0.1461,  0.0402, -0.0654, -0.0434]], grad_fn=<AddmmBackward0>)"
      ]
     },
     "execution_count": 7,
     "metadata": {},
     "output_type": "execute_result"
    }
   ],
   "source": [
    "state_tensor = torch.from_numpy(env.state2).float()\n",
    "embedded = embedding(state_tensor)\n",
    "attn_output, _ = attention(embedded, embedded, embedded)\n",
    "attn_output = layer_norm(embedded + attn_output)\n",
    "ffn_output = ffn(attn_output)\n",
    "output = layer_norm(attn_output + ffn_output)\n",
    "\n",
    "flattened = output.view(1, -1)\n",
    "output = output_layer(flattened)\n",
    "\n",
    "output"
   ]
  },
  {
   "cell_type": "code",
   "execution_count": 8,
   "id": "1227b636",
   "metadata": {},
   "outputs": [
    {
     "name": "stdout",
     "output_type": "stream",
     "text": [
      "tensor([[  0.5382,  -0.2334,  -0.8162,  ...,   1.5008,  -1.6134,  -0.5876],\n",
      "        [  1.7001,  -1.0798,  -2.6460,  ...,   2.1654,  -4.4640,  -3.0868],\n",
      "        [  2.8619,  -1.9261,  -4.4758,  ...,   2.8301,  -7.3147,  -5.5861],\n",
      "        [  4.0238,  -2.7724,  -6.3056,  ...,   3.4947, -10.1653,  -8.0853]],\n",
      "       grad_fn=<AddmmBackward0>)\n",
      "Output: tensor([[-0.7044,  0.8536],\n",
      "        [-1.3133,  2.2796],\n",
      "        [-1.9222,  3.7057],\n",
      "        [-2.5311,  5.1317]], grad_fn=<AddmmBackward0>)\n"
     ]
    }
   ],
   "source": [
    "# Definiamo un layer lineare: input con 3 feature, output con 2 feature\n",
    "fc1 = nn.Linear(in_features=3, out_features=256)\n",
    "fc2 = nn.Linear(in_features=256, out_features=2)\n",
    "\n",
    "# Esempio di input: batch di 4 esempi, ciascuno con 3 feature\n",
    "input_matrix = torch.tensor([\n",
    "    [1.0, 2.0, 3.0],\n",
    "    [4.0, 5.0, 6.0],\n",
    "    [7.0, 8.0, 9.0],\n",
    "    [10.0, 11.0, 12.0]\n",
    "])  # shape: (4, 3)\n",
    "\n",
    "# Passaggio della matrice al layer\n",
    "output = fc1(input_matrix)\n",
    "print(output)\n",
    "output = fc2(output)\n",
    "\n",
    "print(\"Output:\", output)"
   ]
  }
 ],
 "metadata": {
  "kernelspec": {
   "display_name": "venv (3.10.9)",
   "language": "python",
   "name": "python3"
  },
  "language_info": {
   "codemirror_mode": {
    "name": "ipython",
    "version": 3
   },
   "file_extension": ".py",
   "mimetype": "text/x-python",
   "name": "python",
   "nbconvert_exporter": "python",
   "pygments_lexer": "ipython3",
   "version": "3.10.9"
  }
 },
 "nbformat": 4,
 "nbformat_minor": 5
}
