{
 "cells": [
  {
   "cell_type": "code",
   "execution_count": 7,
   "id": "4d809e87",
   "metadata": {},
   "outputs": [],
   "source": [
    "from magiccube import Cube\n",
    "from itertools import product\n",
    "import multiprocessing as mp\n"
   ]
  },
  {
   "cell_type": "code",
   "execution_count": 8,
   "id": "86e72267",
   "metadata": {},
   "outputs": [],
   "source": [
    "moves = [\"U\", \"D\", \"F\", \"R\", \"B\", \"L\",\n",
    "         \"U'\", \"D'\", \"F'\", \"R'\", \"B'\", \"L'\"]\n",
    "\n",
    "c = Cube()\n"
   ]
  },
  {
   "cell_type": "code",
   "execution_count": 9,
   "id": "faf3a983",
   "metadata": {},
   "outputs": [],
   "source": [
    "def generate_move_sequences(moves, max_depth):\n",
    "    all_sequences = []\n",
    "    for depth in range(1, max_depth + 1):\n",
    "        sequences = list(product(moves, repeat=depth))\n",
    "        all_sequences.extend([\" \".join(seq) for seq in sequences])\n",
    "    return all_sequences"
   ]
  },
  {
   "cell_type": "code",
   "execution_count": 10,
   "id": "c8566f7e",
   "metadata": {},
   "outputs": [
    {
     "name": "stdout",
     "output_type": "stream",
     "text": [
      "Totale stati unici visitati: 11206\n"
     ]
    }
   ],
   "source": [
    "def process_sequences(seqs):\n",
    "    local_visited = set()\n",
    "    for s in seqs:\n",
    "        c = Cube()\n",
    "        c.rotate(s)\n",
    "        local_visited.add(c.get_kociemba_facelet_positions())\n",
    "    return local_visited\n",
    "\n",
    "def chunkify(lst, n):\n",
    "    return [lst[i::n] for i in range(n)]\n",
    "\n",
    "if __name__ == \"__main__\":\n",
    "    all_seqs = generate_move_sequences(moves, max_depth=4)\n",
    "    \n",
    "    num_processes = mp.cpu_count()\n",
    "    chunks = chunkify(all_seqs, num_processes)\n",
    "\n",
    "    with mp.Pool(processes=num_processes) as pool:\n",
    "        results = pool.map(process_sequences, chunks)\n",
    "\n",
    "    visited = set().union(*results)\n",
    "    \n",
    "    print(\"Totale stati unici visitati:\", len(visited))\n"
   ]
  },
  {
   "cell_type": "code",
   "execution_count": 11,
   "id": "c39a7a04",
   "metadata": {},
   "outputs": [
    {
     "name": "stdout",
     "output_type": "stream",
     "text": [
      "11206\n"
     ]
    }
   ],
   "source": [
    "print(len(visited))"
   ]
  }
 ],
 "metadata": {
  "kernelspec": {
   "display_name": "deep",
   "language": "python",
   "name": "python3"
  },
  "language_info": {
   "codemirror_mode": {
    "name": "ipython",
    "version": 3
   },
   "file_extension": ".py",
   "mimetype": "text/x-python",
   "name": "python",
   "nbconvert_exporter": "python",
   "pygments_lexer": "ipython3",
   "version": "3.11.13"
  }
 },
 "nbformat": 4,
 "nbformat_minor": 5
}
