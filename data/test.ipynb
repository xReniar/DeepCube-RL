{
 "cells": [
  {
   "cell_type": "code",
   "execution_count": 10,
   "id": "012d275f",
   "metadata": {},
   "outputs": [],
   "source": [
    "import torch\n",
    "import matplotlib.pyplot as plt\n",
    "import numpy as np"
   ]
  },
  {
   "cell_type": "code",
   "execution_count": 8,
   "id": "2816c8b1",
   "metadata": {},
   "outputs": [
    {
     "name": "stdout",
     "output_type": "stream",
     "text": [
      "Dimensioni del tensore PyTorch del cubo 2D: torch.Size([3, 9, 12])\n"
     ]
    }
   ],
   "source": [
    "# Dimensioni dell'immagine\n",
    "altezza = 9  # 3 blocchi da 3 pixel in altezza\n",
    "larghezza = 12 # 4 blocchi da 3 pixel in larghezza\n",
    "canali = 3   # RGB\n",
    "\n",
    "# Inizializza un tensore di zeri (immagine completamente nera)\n",
    "cubo_2d_tensor = torch.zeros(canali, altezza, larghezza, dtype=torch.float32)\n",
    "\n",
    "# Definiamo colori unici per ogni faccia (valori RGB normalizzati tra 0 e 1)\n",
    "colors = {\n",
    "    'U': [1.0, 0.5, 0.0],  # Arancione per Up\n",
    "    'L': [0.0, 0.8, 0.0],  # Verde per Left\n",
    "    'F': [0.0, 0.0, 1.0],  # Blu per Front\n",
    "    'R': [1.0, 0.0, 0.0],  # Rosso per Right\n",
    "    'B': [0.5, 0.0, 0.5],  # Viola per Back\n",
    "    'D': [0.8, 0.8, 0.0]   # Giallo per Down\n",
    "}\n",
    "\n",
    "# Dimensioni di ogni blocco \"lettera\"\n",
    "blocco_h = 3\n",
    "blocco_w = 3\n",
    "\n",
    "# Posizioniamo le \"facce\" sull'immagine\n",
    "# 'U' (Up) - Posizionato al centro della prima riga di blocchi\n",
    "# Centro orizzontale: (larghezza_totale - larghezza_blocco) / 2 = (12 - 3) / 2 = 4.5\n",
    "# Usiamo indici interi, quindi da 4 a 7 (3 pixel di larghezza)\n",
    "cubo_2d_tensor[:, 0:blocco_h, 4:4+blocco_w] = torch.tensor(colors['U']).view(3, 1, 1)\n",
    "\n",
    "\n",
    "# 'L' (Left) - Prima colonna della riga centrale\n",
    "cubo_2d_tensor[:, blocco_h:blocco_h*2, 0:blocco_w] = torch.tensor(colors['L']).view(3, 1, 1)\n",
    "\n",
    "# 'F' (Front) - Seconda colonna della riga centrale\n",
    "cubo_2d_tensor[:, blocco_h:blocco_h*2, blocco_w:blocco_w*2] = torch.tensor(colors['F']).view(3, 1, 1)\n",
    "\n",
    "# 'R' (Right) - Terza colonna della riga centrale\n",
    "cubo_2d_tensor[:, blocco_h:blocco_h*2, blocco_w*2:blocco_w*3] = torch.tensor(colors['R']).view(3, 1, 1)\n",
    "\n",
    "# 'B' (Back) - Quarta colonna della riga centrale\n",
    "cubo_2d_tensor[:, blocco_h:blocco_h*2, blocco_w*3:blocco_w*4] = torch.tensor(colors['B']).view(3, 1, 1)\n",
    "\n",
    "\n",
    "# 'D' (Down) - Posizionato al centro dell'ultima riga di blocchi\n",
    "cubo_2d_tensor[:, blocco_h*2:blocco_h*3, 4:4+blocco_w] = torch.tensor(colors['D']).view(3, 1, 1)\n",
    "\n",
    "\n",
    "print(f\"Dimensioni del tensore PyTorch del cubo 2D: {cubo_2d_tensor.shape}\")"
   ]
  },
  {
   "cell_type": "code",
   "execution_count": 11,
   "id": "a84bd64c",
   "metadata": {},
   "outputs": [
    {
     "name": "stdout",
     "output_type": "stream",
     "text": [
      "Dimensioni dell'array NumPy per Matplotlib: (9, 12, 3)\n"
     ]
    },
    {
     "data": {
      "image/png": "[encoded data removed]",
      "text/plain": [
       "<Figure size 600x450 with 1 Axes>"
      ]
     },
     "metadata": {},
     "output_type": "display_data"
    },
    {
     "name": "stdout",
     "output_type": "stream",
     "text": [
      "Immagine del cubo 2D salvata come 'cubo_2d_rappresentazione.png'\n"
     ]
    },
    {
     "data": {
      "text/plain": [
       "<Figure size 640x480 with 0 Axes>"
      ]
     },
     "metadata": {},
     "output_type": "display_data"
    }
   ],
   "source": [
    "# Converti il tensore PyTorch in un array NumPy\n",
    "# Permuta le dimensioni da (C, H, W) a (H, W, C) per Matplotlib\n",
    "image_numpy = cubo_2d_tensor.permute(1, 2, 0).numpy()\n",
    "\n",
    "print(f\"Dimensioni dell'array NumPy per Matplotlib: {image_numpy.shape}\")\n",
    "\n",
    "# Visualizza l'immagine\n",
    "plt.figure(figsize=(larghezza / 2, altezza / 2)) # Regola la dimensione della figura\n",
    "plt.imshow(image_numpy)\n",
    "plt.title(\"Rappresentazione 2D del Cubo (9x12 pixel)\")\n",
    "plt.axis('off') # Nasconde gli assi\n",
    "\n",
    "# Opzionale: Aggiungi una griglia per vedere i pixel\n",
    "ax = plt.gca()\n",
    "ax.set_xticks(np.arange(-0.5, larghezza, 1), minor=True)\n",
    "ax.set_yticks(np.arange(-0.5, altezza, 1), minor=True)\n",
    "ax.grid(which='minor', color='white', linestyle='-', linewidth=0.5)\n",
    "\n",
    "plt.show()\n",
    "\n",
    "# Puoi anche salvare l'immagine\n",
    "plt.savefig(\"cubo_2d_rappresentazione.png\", bbox_inches='tight', pad_inches=0)\n",
    "print(\"Immagine del cubo 2D salvata come 'cubo_2d_rappresentazione.png'\")"
   ]
  }
 ],
 "metadata": {
  "kernelspec": {
   "display_name": "deep",
   "language": "python",
   "name": "python3"
  },
  "language_info": {
   "codemirror_mode": {
    "name": "ipython",
    "version": 3
   },
   "file_extension": ".py",
   "mimetype": "text/x-python",
   "name": "python",
   "nbconvert_exporter": "python",
   "pygments_lexer": "ipython3",
   "version": "3.11.13"
  }
 },
 "nbformat": 4,
 "nbformat_minor": 5
}
