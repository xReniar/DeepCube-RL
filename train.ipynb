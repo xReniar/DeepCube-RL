{
 "cells": [
  {
   "cell_type": "code",
   "execution_count": null,
   "id": "6d75919d",
   "metadata": {},
   "outputs": [],
   "source": [
    "from environment import Environment\n",
    "from CFOP_agents import DQN\n",
    "import yaml\n",
    "from itertools import count\n",
    "import torch\n",
    "\n",
    "\n",
    "device = torch.device(\n",
    "    \"cuda\" if torch.cuda.is_available() else\n",
    "    \"mps\" if torch.backends.mps.is_available() else\n",
    "    \"cpu\"\n",
    ")"
   ]
  },
  {
   "cell_type": "code",
   "execution_count": 2,
   "id": "eec947b8",
   "metadata": {},
   "outputs": [],
   "source": [
    "env = Environment(\n",
    "        method=\"CFOP\",\n",
    "        size=3,\n",
    "        device=device\n",
    "    )\n",
    "env.scramble()\n",
    "\n",
    "args = yaml.safe_load(open(\"config.yaml\", \"r\"))\n",
    "agent: DQN = DQN(args[\"DQN\"])"
   ]
  },
  {
   "cell_type": "code",
   "execution_count": 3,
   "id": "072e4231",
   "metadata": {},
   "outputs": [
    {
     "data": {
      "text/plain": [
       "<contextlib.ExitStack at 0x7d2ed62e4c90>"
      ]
     },
     "execution_count": 3,
     "metadata": {},
     "output_type": "execute_result"
    }
   ],
   "source": [
    "import matplotlib\n",
    "import matplotlib.pyplot as plt\n",
    "\n",
    "# set up matplotlib\n",
    "is_ipython = 'inline' in matplotlib.get_backend()\n",
    "if is_ipython:\n",
    "    from IPython import display\n",
    "\n",
    "plt.ion()"
   ]
  },
  {
   "cell_type": "code",
   "execution_count": 4,
   "id": "2b04e492",
   "metadata": {},
   "outputs": [],
   "source": [
    "episode_durations = []\n",
    "\n",
    "\n",
    "def plot_durations(show_result=False):\n",
    "    plt.figure(1)\n",
    "    durations_t = torch.tensor(episode_durations, dtype=torch.float)\n",
    "    if show_result:\n",
    "        plt.title('Result')\n",
    "    else:\n",
    "        plt.clf()\n",
    "        plt.title('Training...')\n",
    "    plt.xlabel('Episode')\n",
    "    plt.ylabel('Duration')\n",
    "    plt.plot(durations_t.numpy())\n",
    "    # Take 100 episode averages and plot them too\n",
    "    if len(durations_t) >= 100:\n",
    "        means = durations_t.unfold(0, 100, 1).mean(1).view(-1)\n",
    "        means = torch.cat((torch.zeros(99), means))\n",
    "        plt.plot(means.numpy())\n",
    "\n",
    "    plt.pause(0.001)  # pause a bit so that plots are updated\n",
    "    if is_ipython:\n",
    "        if not show_result:\n",
    "            display.display(plt.gcf())\n",
    "            display.clear_output(wait=True)\n",
    "        else:\n",
    "            display.display(plt.gcf())"
   ]
  },
  {
   "cell_type": "code",
   "execution_count": null,
   "id": "268896ec",
   "metadata": {},
   "outputs": [],
   "source": [
    "for _ in range(agent.num_episodes):\n",
    "    state = env.reset()\n",
    "\n",
    "    current_reward = env.algorithm.status(env.cube)\n",
    "\n",
    "    for t in count():\n",
    "        action = agent.action(state)\n",
    "        obs, reward, done = env.step(action.item())\n",
    "        #print(type(next_state), reward, type(done))\n",
    "        \n",
    "        if current_reward != 0:\n",
    "            if reward == 0:\n",
    "                current_reward -= 1\n",
    "            else:\n",
    "                if current_reward == reward:\n",
    "                    current_reward -= 1\n",
    "                else:\n",
    "                    current_reward = reward\n",
    "        else:\n",
    "            current_reward += reward\n",
    "\n",
    "        print(current_reward)\n",
    "\n",
    "        torch_current_reward = torch.tensor([current_reward], device=device)\n",
    "\n",
    "        if done:\n",
    "            next_state = None\n",
    "        else:\n",
    "            next_state = obs\n",
    "\n",
    "        agent.memory.push(state, action, next_state, torch_current_reward)\n",
    "        state = next_state\n",
    "\n",
    "        agent.optimize()\n",
    "\n",
    "        target_net_state_dict = agent.target_net.state_dict()\n",
    "        policy_net_state_dict = agent.policy_net.state_dict()\n",
    "        for key in policy_net_state_dict:\n",
    "            target_net_state_dict[key] = policy_net_state_dict[key]*agent.tau + target_net_state_dict[key]*(1-agent.tau)\n",
    "        agent.target_net.load_state_dict(target_net_state_dict)\n",
    "\n",
    "        if done:\n",
    "            episode_durations.append(t + 1)\n",
    "            plot_durations()\n",
    "            break"
   ]
  }
 ],
 "metadata": {
  "kernelspec": {
   "display_name": "deep",
   "language": "python",
   "name": "python3"
  },
  "language_info": {
   "codemirror_mode": {
    "name": "ipython",
    "version": 3
   },
   "file_extension": ".py",
   "mimetype": "text/x-python",
   "name": "python",
   "nbconvert_exporter": "python",
   "pygments_lexer": "ipython3",
   "version": "3.11.13"
  }
 },
 "nbformat": 4,
 "nbformat_minor": 5
}
